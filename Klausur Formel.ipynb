{
 "cells": [
  {
   "cell_type": "code",
   "execution_count": 1,
   "metadata": {},
   "outputs": [],
   "source": [
    "import math\n",
    "import numpy as np\n",
    "import pandas as pd\n",
    "import matplotlib.pyplot as plt\n",
    "from matplotlib.figure import Figure as fig\n",
    "from IPython.display import Image"
   ]
  },
  {
   "cell_type": "markdown",
   "metadata": {},
   "source": [
    "## Profilverschiebung Geradverzahnung (Winkel)"
   ]
  },
  {
   "cell_type": "code",
   "execution_count": 2,
   "metadata": {},
   "outputs": [],
   "source": [
    "def inv(alpha):\n",
    "    evolvente = math.tan(alpha*(math.pi/180))-alpha*(math.pi/180)\n",
    "    \n",
    "    return evolvente"
   ]
  },
  {
   "cell_type": "code",
   "execution_count": 3,
   "metadata": {},
   "outputs": [
    {
     "name": "stdout",
     "output_type": "stream",
     "text": [
      "Durchmesser d1 19.00 mm\n",
      "Durchmesser d2 16.00 mm\n",
      "\n",
      "Der Null-Achsabstand a_d ist 17.50 mm\n",
      "Der Betriebseingriffswinkel alpha_w ist 20.00°\n",
      "Der Winkel alpha ist 20.00° \n",
      "Der Achsabstand mit Profilverschiebung a=17.50 mm\n",
      "\n",
      "Betriebswälzkreis dw1 19.00 mm\n",
      "Betriebswälzkreis dw2 16.00 mm\n",
      "\n"
     ]
    }
   ],
   "source": [
    "#Null-Achsabstand\n",
    "d1=19\n",
    "d2=16\n",
    "a_d=(d1+d2)/2\n",
    "\n",
    "print(f'Durchmesser d1 {d1:4.2f} mm')\n",
    "print(f'Durchmesser d2 {d2:4.2f} mm\\n')\n",
    "\n",
    "#Betriebseingriffswinkel\n",
    "alpha_w=20\n",
    "alpha_w=(alpha_w*math.pi)/180\n",
    "\n",
    "#Achsabstand mit Profilverschiebung\n",
    "alpha=20\n",
    "alpha=(alpha*math.pi)/180\n",
    "\n",
    "a=(a_d*math.cos(alpha))/math.cos(alpha_w)\n",
    "\n",
    "#Alternativ\n",
    "# dw1=\n",
    "# dw2=\n",
    "# a=0.5*(dw1+dw2)\n",
    "\n",
    "print(f'Der Null-Achsabstand a_d ist {a_d:4.2f} mm')\n",
    "print(f'Der Betriebseingriffswinkel alpha_w ist {alpha_w*(180/math.pi):4.2f}°')\n",
    "print(f'Der Winkel alpha ist {alpha*(180/math.pi):4.2f}° ')\n",
    "print(f'Der Achsabstand mit Profilverschiebung a={a:4.2f} mm\\n')\n",
    "\n",
    "#Betriebswälzkreis\n",
    "dw1=d1*(math.cos(alpha)/math.cos(alpha_w))\n",
    "dw2=d2*(math.cos(alpha)/math.cos(alpha_w))\n",
    "\n",
    "print(f'Betriebswälzkreis dw1 {dw1:4.2f} mm')\n",
    "print(f'Betriebswälzkreis dw2 {dw2:4.2f} mm\\n')"
   ]
  },
  {
   "cell_type": "markdown",
   "metadata": {},
   "source": [
    "## Profilverschiebung (Schräg- und Geradverzahnung) mit gegebenen Durchmessern"
   ]
  },
  {
   "cell_type": "code",
   "execution_count": 20,
   "metadata": {},
   "outputs": [
    {
     "name": "stdout",
     "output_type": "stream",
     "text": [
      "Die Kopfhöhe des Bezugsprofils ha ist 3.00 mm\n",
      "Der Kopfspiel c im Normalfall ist 0.75 mm\n",
      "Der Fußhöhe des Bezugsprofils hf ist 3.75 mm\n",
      "\n",
      "Der V-Kreis-Durchmesser1 ist 92.54 mm\n",
      "Der V-Kreis-Durchmesser2 ist 145.95 mm\n",
      "\n",
      "Der Kopfkreisdurchmesser1 da1 ist 98.54 mm\n",
      "Der Kopfkreisdurchmesser2 da2 ist 151.95 mm\n",
      "\n",
      "Der Füßkreisdurchmesser1 df1 ist 85.04 mm\n",
      "Der Füßfkreisdurchmesser2 df2 ist 138.45 mm\n",
      "\n",
      "Der Null-Achsabstand a_d ist 116.55 mm\n",
      "Der Achsabstand mit Profilverschiebung av=119.25 mm\n",
      "\n",
      "Der Winkel alpha_t ist = 21.66°\n",
      "\n",
      "Der Winkel mit Profilverschiebung alpha_w = 24.72°\n",
      "\n",
      "Der Kopfänderungsfaktor ist 0.00\n",
      "\n"
     ]
    }
   ],
   "source": [
    "#Durchmesser ohne Profilverschiebung\n",
    "d1=88.944\n",
    "d2=144.150\n",
    "\n",
    "############Normalmodul sowohl für Gerad als auch für Schrägverzahnung\n",
    "m=3\n",
    "\n",
    "ha = m #Kopfhöhe des Bezugsprofils\n",
    "c = 0.25*m # Kopfspiel im Normalfall\n",
    "hf= ha + c # Füßhöhe des Bezugsprofils\n",
    "alpha_n=20*(math.pi/180) # Normaleingriffswinkel\n",
    "\n",
    "print(f'Die Kopfhöhe des Bezugsprofils ha ist {ha:4.2f} mm')\n",
    "print(f'Der Kopfspiel c im Normalfall ist {c:4.2f} mm')\n",
    "print(f'Der Fußhöhe des Bezugsprofils hf ist {hf:4.2f} mm\\n')\n",
    "\n",
    "################Profilverschiebungen für jedes Zahnrad\n",
    "x1=0.6\n",
    "x2=0.3\n",
    "\n",
    "#V-Kreis-Durchmesser\n",
    "dv1=d1+2*x1*m\n",
    "dv2=d2+2*x2*m\n",
    "print(f'Der V-Kreis-Durchmesser1 ist {dv1:4.2f} mm')\n",
    "print(f'Der V-Kreis-Durchmesser2 ist {dv2:4.2f} mm\\n')\n",
    "\n",
    "#Kopfkreisdurchmesser\n",
    "da1=dv1+2*ha\n",
    "da2=dv2+2*ha\n",
    "print(f'Der Kopfkreisdurchmesser1 da1 ist {da1:4.2f} mm')\n",
    "print(f'Der Kopfkreisdurchmesser2 da2 ist {da2:4.2f} mm\\n')\n",
    "\n",
    "#Füßkreisdurchmesser\n",
    "df1=dv1-2*hf\n",
    "df2=dv2-2*hf\n",
    "print(f'Der Füßkreisdurchmesser1 df1 ist {df1:4.2f} mm')\n",
    "print(f'Der Füßfkreisdurchmesser2 df2 ist {df2:4.2f} mm\\n')\n",
    "\n",
    "a_d=(d1+d2)/2\n",
    "print(f'Der Null-Achsabstand a_d ist {a_d:4.2f} mm')\n",
    "\n",
    "av=a_d+(x1+x2)*m\n",
    "print(f'Der Achsabstand mit Profilverschiebung av={av:4.2f} mm\\n')\n",
    "\n",
    "#Winkel Alpha_w\n",
    "\n",
    "################# Schrägverzahnung ##########################\n",
    "\n",
    "beta=23.5782 #############Schrägungswinkel\n",
    "\n",
    "beta=beta*(math.pi/180) #Schrägungswinkel\n",
    "\n",
    "alpha_t=math.atan(math.tan(alpha_n)/math.cos(beta))\n",
    "print(f'Der Winkel alpha_t ist = {alpha_t*(180/math.pi):4.2f}°\\n')\n",
    "\n",
    "# ############## Geradverzahnung #################################\n",
    "# alpha_t=alpha_n\n",
    "\n",
    "faktor_w=(a_d/av)*math.cos(alpha_t)\n",
    "\n",
    "alpha_w=math.acos(faktor_w)*(180/math.pi)\n",
    "\n",
    "print(f'Der Winkel mit Profilverschiebung alpha_w = {alpha_w:4.2f}°\\n')\n",
    "\n",
    "#Kopfänderungsfaktor\n",
    "k=((av-a_d)/m)-(x1+x2) \n",
    "print(f'Der Kopfänderungsfaktor ist {k:4.2f}\\n')#####Comprobar que pasa aqui "
   ]
  },
  {
   "cell_type": "markdown",
   "metadata": {},
   "source": [
    "## Nachbiegikeit der Platten "
   ]
  },
  {
   "cell_type": "code",
   "execution_count": 6,
   "metadata": {},
   "outputs": [
    {
     "data": {
      "text/html": [
       "<img src=\"Bilder/Nachbiegikeit_platte.JPG\" width=\"800\" height=\"600\"/>"
      ],
      "text/plain": [
       "<IPython.core.display.Image object>"
      ]
     },
     "execution_count": 6,
     "metadata": {},
     "output_type": "execute_result"
    }
   ],
   "source": [
    "# get the image\n",
    "Image(url=\"Bilder/Nachbiegikeit_platte.JPG\", width=800, height=600)"
   ]
  },
  {
   "cell_type": "markdown",
   "metadata": {},
   "source": [
    "### 1. Fall DA<dw"
   ]
  },
  {
   "cell_type": "code",
   "execution_count": 7,
   "metadata": {},
   "outputs": [
    {
     "name": "stdout",
     "output_type": "stream",
     "text": [
      "Die Ersatzfläche Aers ist = 235.62 mm^2\n"
     ]
    }
   ],
   "source": [
    "#Durchmesser in mm\n",
    "DA1=20\n",
    "dh1=10\n",
    "Aers1=(math.pi/4)*(DA1**2-dh1**2)\n",
    "\n",
    "print(f'Die Ersatzfläche Aers ist = {Aers1:4.2f} mm^2')"
   ]
  },
  {
   "cell_type": "markdown",
   "metadata": {},
   "source": [
    "### 2. Fall dw<=DA<=dw+lk"
   ]
  },
  {
   "cell_type": "code",
   "execution_count": 8,
   "metadata": {},
   "outputs": [
    {
     "name": "stdout",
     "output_type": "stream",
     "text": [
      "4.932531538784641\n",
      "Die Ersatzfläche Aers ist = 95.99 mm^2\n"
     ]
    }
   ],
   "source": [
    "dw2=11.6\n",
    "dh2=9\n",
    "DA2=14\n",
    "lk2=50\n",
    "\n",
    "faktor2=((((lk2*dw2/DA2**2)**(1/3))+1)**2)-1\n",
    "Aers2=(math.pi/4)*(dw2**2-dh2**2)+(math.pi/8)*dw2*(DA2-dw2)*faktor2\n",
    "\n",
    "print(faktor2)\n",
    "\n",
    "print(f'Die Ersatzfläche Aers ist = {Aers2:4.2f} mm^2')"
   ]
  },
  {
   "cell_type": "markdown",
   "metadata": {},
   "source": [
    "### 3. Fall dw+lk<DA"
   ]
  },
  {
   "cell_type": "code",
   "execution_count": 9,
   "metadata": {},
   "outputs": [
    {
     "name": "stdout",
     "output_type": "stream",
     "text": [
      "1.6567713128869235\n",
      "Die Ersatzfläche Aers ist = 0.65 mm^2\n"
     ]
    }
   ],
   "source": [
    "dw3=1\n",
    "dh3=1\n",
    "DA3=20\n",
    "lk3=1\n",
    "\n",
    "faktor3=((((lk3*dw3/(lk3+dw3)**2)**(1/3))+1)**2)-1\n",
    "Aers3=(math.pi/4)*(dw3**2-dh3**2)+(math.pi/8)*dw3*lk3*faktor3\n",
    "\n",
    "print(faktor3)\n",
    "print(f'Die Ersatzfläche Aers ist = {Aers3:4.2f} mm^2')"
   ]
  },
  {
   "cell_type": "code",
   "execution_count": 10,
   "metadata": {},
   "outputs": [
    {
     "name": "stdout",
     "output_type": "stream",
     "text": [
      "Die Nachbiegigkeit der Platte sigma_P ist = 2.604383e-05 mm/N\n"
     ]
    }
   ],
   "source": [
    "#######Nachbiegigkeit der Platte\n",
    "lk=50 ######Klemmlänge#########\n",
    "E=20000 #######N/mm^2\n",
    "\n",
    "sigma_P=lk/(E*Aers2)\n",
    "print(f'Die Nachbiegigkeit der Platte sigma_P ist = {sigma_P:e} mm/N')"
   ]
  },
  {
   "cell_type": "markdown",
   "metadata": {},
   "source": [
    "### Schraubennachbiegigkeit "
   ]
  },
  {
   "cell_type": "code",
   "execution_count": 12,
   "metadata": {},
   "outputs": [
    {
     "data": {
      "text/html": [
       "<img src=\"Bilder/Nachbiegigkeit_schraube.jpeg\" width=\"800\" height=\"600\"/>"
      ],
      "text/plain": [
       "<IPython.core.display.Image object>"
      ]
     },
     "execution_count": 12,
     "metadata": {},
     "output_type": "execute_result"
    }
   ],
   "source": [
    "# get the image\n",
    "Image(url=\"Bilder/Nachbiegigkeit_schraube.jpeg\", width=800, height=600)"
   ]
  },
  {
   "cell_type": "code",
   "execution_count": 13,
   "metadata": {},
   "outputs": [
    {
     "name": "stdout",
     "output_type": "stream",
     "text": [
      "Die Fläche A_N = 50.27 mm^2\n",
      "Die Nachbiegigkeit des Kopfs sigma_sk ist = 3.978874e-06 mm/N\n"
     ]
    }
   ],
   "source": [
    "###########Allgemeine Faktoren############\n",
    "E=20000 ##N/mm^2\n",
    "d=8\n",
    "A_n=(math.pi*d**2)/4 ##mm^2\n",
    "\n",
    "##Schraubenkopf \n",
    "\n",
    "################Sechskant###################\n",
    "sigma_k=(0.5*d)/(E*A_n)\n",
    "###############Zylinderkopf############\n",
    "# sigma_k=(0.4*d)/(E*A_n)\n",
    "\n",
    "print(f'Die Fläche A_N = {A_n:4.2f} mm^2')\n",
    "print(f'Die Nachbiegigkeit des Kopfs sigma_sk ist = {sigma_k:e} mm/N')"
   ]
  },
  {
   "cell_type": "code",
   "execution_count": 14,
   "metadata": {},
   "outputs": [
    {
     "name": "stdout",
     "output_type": "stream",
     "text": [
      "Die Fläche A3 ist = 32.80 mm^2\n",
      "\n",
      "Die Nachbiegigkeit des eingeschraubten Kerns sigma_G ist = 6.097561e-06 mm/N\n"
     ]
    }
   ],
   "source": [
    "##Eingeschraubter Gewindekern\n",
    "A3=(math.pi*d**4)/4\n",
    "################### Falls A3 gegeben ist  ################ ansonsten muss die Norm VDI 2230-1 Sehen \n",
    "A3= 32.8\n",
    "sigma_G=(0.5*d)/(E*A3)\n",
    "\n",
    "print(f'Die Fläche A3 ist = {A3:4.2f} mm^2\\n')\n",
    "print(f'Die Nachbiegigkeit des eingeschraubten Kerns sigma_G ist = {sigma_G:e} mm/N')"
   ]
  },
  {
   "cell_type": "code",
   "execution_count": 15,
   "metadata": {},
   "outputs": [
    {
     "name": "stdout",
     "output_type": "stream",
     "text": [
      "Die Fläche A3 ist = 32.80 mm^2\n",
      "\n",
      "Die Nachbiegigkeit des eingeschraubten Kerns sigma_S ist = 3.183099e-05 mm/N\n"
     ]
    }
   ],
   "source": [
    "##SCHAFT\n",
    "\n",
    "####### Länge der Schaft #########\n",
    "ls=32\n",
    "sigma_S=ls/(E*A_n)\n",
    "\n",
    "print(f'Die Fläche A3 ist = {A3:4.2f} mm^2\\n')\n",
    "print(f'Die Nachbiegigkeit des eingeschraubten Kerns sigma_S ist = {sigma_S:e} mm/N')"
   ]
  },
  {
   "cell_type": "code",
   "execution_count": 16,
   "metadata": {},
   "outputs": [
    {
     "name": "stdout",
     "output_type": "stream",
     "text": [
      "Die Nachbiegigkeit des freiliegenden Gewindeteils sigma_f ist = 2.743902e-05 mm/N\n"
     ]
    }
   ],
   "source": [
    "#### Freiliegender Gewindeteil ###########\n",
    "lf=18 ####mm\n",
    "sigma_f=lf/(E*A3)\n",
    "print(f'Die Nachbiegigkeit des freiliegenden Gewindeteils sigma_f ist = {sigma_f:e} mm/N')"
   ]
  },
  {
   "cell_type": "code",
   "execution_count": 17,
   "metadata": {},
   "outputs": [
    {
     "name": "stdout",
     "output_type": "stream",
     "text": [
      "Die Nachbiegigkeit des Mutteprofils sigma_M ist = 3.183099e-06 mm/N\n"
     ]
    }
   ],
   "source": [
    "#### Mutterprofil ###########\n",
    "\n",
    "######### Durchschraubverbindung ###############\n",
    "sigma_M=(0.4*d)/(E*A_n)\n",
    "\n",
    "######### Einschraubverbindung  ##################\n",
    "# sigma_M=(0.33*d)/(E*A_n)\n",
    "\n",
    "print(f'Die Nachbiegigkeit des Mutteprofils sigma_M ist = {sigma_M:e} mm/N')"
   ]
  }
 ],
 "metadata": {
  "kernelspec": {
   "display_name": "Python 3",
   "language": "python",
   "name": "python3"
  },
  "language_info": {
   "codemirror_mode": {
    "name": "ipython",
    "version": 3
   },
   "file_extension": ".py",
   "mimetype": "text/x-python",
   "name": "python",
   "nbconvert_exporter": "python",
   "pygments_lexer": "ipython3",
   "version": "3.8.11"
  }
 },
 "nbformat": 4,
 "nbformat_minor": 4
}
