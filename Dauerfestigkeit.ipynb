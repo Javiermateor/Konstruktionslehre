{
 "cells": [
  {
   "cell_type": "markdown",
   "metadata": {},
   "source": [
    "## Dauerfestigkeit"
   ]
  },
  {
   "cell_type": "code",
   "execution_count": 63,
   "metadata": {},
   "outputs": [],
   "source": [
    "import math\n",
    "import numpy as np\n",
    "import pandas as pd\n",
    "import matplotlib.pyplot as plt\n",
    "from IPython.display import Image"
   ]
  },
  {
   "cell_type": "markdown",
   "metadata": {},
   "source": [
    "## Kerbformen"
   ]
  },
  {
   "cell_type": "code",
   "execution_count": 64,
   "metadata": {},
   "outputs": [
    {
     "name": "stdout",
     "output_type": "stream",
     "text": [
      "Der Faktor r/t ist 1.2500\n",
      "Der Faktor d/D ist 0.8400\n",
      "\n"
     ]
    }
   ],
   "source": [
    "#Einlesen der Parameter\n",
    "r=5\n",
    "t=4\n",
    "faktor_rt=r/t\n",
    "\n",
    "d=42\n",
    "D=50\n",
    "faktor_rd=r/d\n",
    "faktor_dD=d/D\n",
    "\n",
    "print(f'Der Faktor r/t ist {r/t:4.4f}')\n",
    "print(f'Der Faktor d/D ist {d/D:4.4f}\\n')\n",
    "\n",
    "if r/t <0.03:\n",
    "    print(f'Die Bedingung r/t = {r/t:4.4f} >= 0.03 ist nicht eingehalten')\n",
    "    \n",
    "if d/D > 0.98:\n",
    "    print(f'Die Bedingung d/D = {d/D:4.4f} <= 0.98 ist nicht eingehalten')"
   ]
  },
  {
   "cell_type": "code",
   "execution_count": 65,
   "metadata": {},
   "outputs": [
    {
     "data": {
      "text/html": [
       "<img src=\"Images/allgemeine_formel.jpeg\" width=\"400\" height=\"400\"/>"
      ],
      "text/plain": [
       "<IPython.core.display.Image object>"
      ]
     },
     "execution_count": 65,
     "metadata": {},
     "output_type": "execute_result"
    }
   ],
   "source": [
    "Image(url=\"Images/allgemeine_formel.jpeg\", width=400, height=400)"
   ]
  },
  {
   "cell_type": "code",
   "execution_count": 66,
   "metadata": {},
   "outputs": [
    {
     "name": "stdout",
     "output_type": "stream",
     "text": [
      "Die allgemeine Formzahl ist 1.6126\n"
     ]
    }
   ],
   "source": [
    "####Allgemeine Formel\n",
    "A=1\n",
    "B=1\n",
    "C=1\n",
    "z=1\n",
    "\n",
    "nenner_allgemein=math.sqrt(A*faktor_rt+2*B*faktor_rd*(1+2*faktor_rd)**2+C*faktor_dD*faktor_rt**z)\n",
    "formzahl_allgemein=1+(1/nenner_allgemein)\n",
    "\n",
    "print(f'Die allgemeine Formzahl ist {formzahl_allgemein:4.4f}')\n"
   ]
  },
  {
   "cell_type": "markdown",
   "metadata": {},
   "source": [
    "### gekerbte Rundstäbe / Bedigung für die Formzahl <=6"
   ]
  },
  {
   "cell_type": "code",
   "execution_count": 67,
   "metadata": {},
   "outputs": [
    {
     "data": {
      "text/html": [
       "<img src=\"Images/Rund_Zug.jpeg\" width=\"400\" height=\"400\"/>"
      ],
      "text/plain": [
       "<IPython.core.display.Image object>"
      ]
     },
     "execution_count": 67,
     "metadata": {},
     "output_type": "execute_result"
    }
   ],
   "source": [
    "Image(url=\"Images/Rund_Zug.jpeg\", width=400, height=400)"
   ]
  },
  {
   "cell_type": "code",
   "execution_count": 68,
   "metadata": {},
   "outputs": [
    {
     "name": "stdout",
     "output_type": "stream",
     "text": [
      "Die Formzahl für gekerbte Rundstäbe bei Zug ist: 2.1359\n"
     ]
    }
   ],
   "source": [
    "nenner_rund_zug=math.sqrt(0.22*faktor_rt+2.74*faktor_rd*(1+2*faktor_rd)**2)\n",
    "formzahl_rund_zug=1+(1/nenner_rund_zug)\n",
    "print(f'Die Formzahl für gekerbte Rundstäbe bei Zug ist: {formzahl_rund_zug:4.4f}')"
   ]
  },
  {
   "cell_type": "code",
   "execution_count": 69,
   "metadata": {},
   "outputs": [
    {
     "data": {
      "text/html": [
       "<img src=\"Images/Rund_Biegung.jpeg\" width=\"400\" height=\"400\"/>"
      ],
      "text/plain": [
       "<IPython.core.display.Image object>"
      ]
     },
     "execution_count": 69,
     "metadata": {},
     "output_type": "execute_result"
    }
   ],
   "source": [
    "Image(url=\"Images/Rund_Biegung.jpeg\", width=400, height=400)"
   ]
  },
  {
   "cell_type": "code",
   "execution_count": 70,
   "metadata": {},
   "outputs": [
    {
     "name": "stdout",
     "output_type": "stream",
     "text": [
      "Die Formzahl für gekerbte Rundstäbe bei Biegung ist: 1.8931\n"
     ]
    }
   ],
   "source": [
    "nenner_rund_biegung=math.sqrt(0.2*faktor_rt+5.5*faktor_rd*(1+2*faktor_rd)**2)\n",
    "formzahl_rund_biegung=1+(1/nenner_rund_biegung)\n",
    "print(f'Die Formzahl für gekerbte Rundstäbe bei Biegung ist: {formzahl_rund_biegung:4.4f}')"
   ]
  },
  {
   "cell_type": "code",
   "execution_count": 71,
   "metadata": {},
   "outputs": [
    {
     "data": {
      "text/html": [
       "<img src=\"Images/Rund_Torsion.jpeg\" width=\"400\" height=\"400\"/>"
      ],
      "text/plain": [
       "<IPython.core.display.Image object>"
      ]
     },
     "execution_count": 71,
     "metadata": {},
     "output_type": "execute_result"
    }
   ],
   "source": [
    "Image(url=\"Images/Rund_Torsion.jpeg\", width=400, height=400)"
   ]
  },
  {
   "cell_type": "code",
   "execution_count": 72,
   "metadata": {},
   "outputs": [
    {
     "name": "stdout",
     "output_type": "stream",
     "text": [
      "Die Formzahl für gekerbte Rundstäbe bei Torsion ist: 1.4645\n"
     ]
    }
   ],
   "source": [
    "nenner_rund_torsion=math.sqrt(0.7*faktor_rt+20.6*faktor_rd*(1+2*faktor_rd)**2)\n",
    "formzahl_rund_torsion=1+(1/nenner_rund_torsion)\n",
    "print(f'Die Formzahl für gekerbte Rundstäbe bei Torsion ist: {formzahl_rund_torsion:4.4f}')"
   ]
  },
  {
   "cell_type": "markdown",
   "metadata": {},
   "source": [
    "### abgesetzte Rundstäbe / Bedigung für die Formzahl <=6"
   ]
  },
  {
   "cell_type": "code",
   "execution_count": 73,
   "metadata": {},
   "outputs": [
    {
     "data": {
      "text/html": [
       "<img src=\"Images/Absatz_Zug.jpeg\" width=\"400\" height=\"400\"/>"
      ],
      "text/plain": [
       "<IPython.core.display.Image object>"
      ]
     },
     "execution_count": 73,
     "metadata": {},
     "output_type": "execute_result"
    }
   ],
   "source": [
    "Image(url=\"Images/Absatz_Zug.jpeg\", width=400, height=400)"
   ]
  },
  {
   "cell_type": "code",
   "execution_count": 74,
   "metadata": {},
   "outputs": [
    {
     "name": "stdout",
     "output_type": "stream",
     "text": [
      "Die Formzahl für abgesetzte Rundstäbe bei Zug ist: 1.6980\n"
     ]
    }
   ],
   "source": [
    "nenner_absatz_zug=math.sqrt(0.62*faktor_rt+7*faktor_rd*(1+2*faktor_rd)**2)\n",
    "formzahl_absatz_zug=1+(1/nenner_absatz_zug)\n",
    "print(f'Die Formzahl für abgesetzte Rundstäbe bei Zug ist: {formzahl_absatz_zug:4.4f}')"
   ]
  },
  {
   "cell_type": "code",
   "execution_count": 75,
   "metadata": {},
   "outputs": [
    {
     "data": {
      "text/html": [
       "<img src=\"Images/Absatz_Biegung.jpeg\" width=\"400\" height=\"400\"/>"
      ],
      "text/plain": [
       "<IPython.core.display.Image object>"
      ]
     },
     "execution_count": 75,
     "metadata": {},
     "output_type": "execute_result"
    }
   ],
   "source": [
    "Image(url=\"Images/Absatz_Biegung.jpeg\", width=400, height=400)"
   ]
  },
  {
   "cell_type": "code",
   "execution_count": 76,
   "metadata": {},
   "outputs": [
    {
     "name": "stdout",
     "output_type": "stream",
     "text": [
      "Die Formzahl für abgesetzte Rundstäbe bei Biegung ist: 1.5573\n"
     ]
    }
   ],
   "source": [
    "nenner_absatz_biegung=math.sqrt(0.62*faktor_rt+11.6*faktor_rd*(1+2*faktor_rd)**2+0.2*faktor_dD*faktor_rt**3)\n",
    "formzahl_absatz_biegung=1+(1/nenner_absatz_biegung)\n",
    "print(f'Die Formzahl für abgesetzte Rundstäbe bei Biegung ist: {formzahl_absatz_biegung:4.4f}')"
   ]
  },
  {
   "cell_type": "code",
   "execution_count": 77,
   "metadata": {},
   "outputs": [
    {
     "data": {
      "text/html": [
       "<img src=\"Images/Absatz_Torsion.jpeg\" width=\"400\" height=\"400\"/>"
      ],
      "text/plain": [
       "<IPython.core.display.Image object>"
      ]
     },
     "execution_count": 77,
     "metadata": {},
     "output_type": "execute_result"
    }
   ],
   "source": [
    "Image(url=\"Images/Absatz_Torsion.jpeg\", width=400, height=400)"
   ]
  },
  {
   "cell_type": "code",
   "execution_count": 78,
   "metadata": {},
   "outputs": [
    {
     "name": "stdout",
     "output_type": "stream",
     "text": [
      "Die Formzahl für abgesetzte Rundstäbe bei Torsion ist: 1.2829\n"
     ]
    }
   ],
   "source": [
    "nenner_absatz_torsion=math.sqrt(3.4*faktor_rt+38*faktor_rd*(1+2*faktor_rd)**2+faktor_dD*faktor_rt**2)\n",
    "formzahl_absatz_torsion=1+(1/nenner_absatz_torsion)\n",
    "print(f'Die Formzahl für abgesetzte Rundstäbe bei Torsion ist: {formzahl_absatz_torsion:4.4f}')"
   ]
  }
 ],
 "metadata": {
  "kernelspec": {
   "display_name": "Python 3",
   "language": "python",
   "name": "python3"
  },
  "language_info": {
   "codemirror_mode": {
    "name": "ipython",
    "version": 3
   },
   "file_extension": ".py",
   "mimetype": "text/x-python",
   "name": "python",
   "nbconvert_exporter": "python",
   "pygments_lexer": "ipython3",
   "version": "3.8.5"
  }
 },
 "nbformat": 4,
 "nbformat_minor": 4
}
