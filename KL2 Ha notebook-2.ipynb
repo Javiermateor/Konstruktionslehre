{
 "cells": [
  {
   "cell_type": "code",
   "execution_count": null,
   "id": "705302ea",
   "metadata": {},
   "outputs": [],
   "source": []
  },
  {
   "cell_type": "code",
   "execution_count": 1,
   "id": "aa8e6947",
   "metadata": {},
   "outputs": [
    {
     "data": {
      "text/html": [
       "<div>\n",
       "<style scoped>\n",
       "    .dataframe tbody tr th:only-of-type {\n",
       "        vertical-align: middle;\n",
       "    }\n",
       "\n",
       "    .dataframe tbody tr th {\n",
       "        vertical-align: top;\n",
       "    }\n",
       "\n",
       "    .dataframe thead th {\n",
       "        text-align: right;\n",
       "    }\n",
       "</style>\n",
       "<table border=\"1\" class=\"dataframe\">\n",
       "  <thead>\n",
       "    <tr style=\"text-align: right;\">\n",
       "      <th></th>\n",
       "      <th>Stahl</th>\n",
       "      <th>Grauguss</th>\n",
       "      <th>Temperguss</th>\n",
       "      <th>Bronze/Messing</th>\n",
       "      <th>AlCuMg-leg</th>\n",
       "      <th>AlMg</th>\n",
       "      <th>AlSi</th>\n",
       "    </tr>\n",
       "  </thead>\n",
       "  <tbody>\n",
       "    <tr>\n",
       "      <th>0</th>\n",
       "      <td>150</td>\n",
       "      <td>90</td>\n",
       "      <td>110</td>\n",
       "      <td>50</td>\n",
       "      <td>100</td>\n",
       "      <td>90</td>\n",
       "      <td>70</td>\n",
       "    </tr>\n",
       "  </tbody>\n",
       "</table>\n",
       "</div>"
      ],
      "text/plain": [
       "   Stahl  Grauguss  Temperguss  Bronze/Messing  AlCuMg-leg  AlMg  AlSi\n",
       "0    150        90         110              50         100    90    70"
      ]
     },
     "metadata": {},
     "output_type": "display_data"
    },
    {
     "data": {
      "text/html": [
       "<div>\n",
       "<style scoped>\n",
       "    .dataframe tbody tr th:only-of-type {\n",
       "        vertical-align: middle;\n",
       "    }\n",
       "\n",
       "    .dataframe tbody tr th {\n",
       "        vertical-align: top;\n",
       "    }\n",
       "\n",
       "    .dataframe thead th {\n",
       "        text-align: right;\n",
       "    }\n",
       "</style>\n",
       "<table border=\"1\" class=\"dataframe\">\n",
       "  <thead>\n",
       "    <tr style=\"text-align: right;\">\n",
       "      <th></th>\n",
       "      <th>Nutkeilen/Polygonwellen</th>\n",
       "      <th>Hohlkeile</th>\n",
       "      <th>Flachkeile</th>\n",
       "      <th>Passfeder/KeilWelle/Zahnwelle</th>\n",
       "    </tr>\n",
       "  </thead>\n",
       "  <tbody>\n",
       "    <tr>\n",
       "      <th>einseitig ruhend</th>\n",
       "      <td>1.10</td>\n",
       "      <td>0.15</td>\n",
       "      <td>0.17</td>\n",
       "      <td>0.80</td>\n",
       "    </tr>\n",
       "    <tr>\n",
       "      <th>einseitig, leichte Stöße</th>\n",
       "      <td>1.00</td>\n",
       "      <td>0.15</td>\n",
       "      <td>0.17</td>\n",
       "      <td>0.70</td>\n",
       "    </tr>\n",
       "    <tr>\n",
       "      <th>einseitig starke Stöße</th>\n",
       "      <td>0.75</td>\n",
       "      <td>0.10</td>\n",
       "      <td>0.11</td>\n",
       "      <td>0.60</td>\n",
       "    </tr>\n",
       "    <tr>\n",
       "      <th>Wechelnd, leichte Stöße</th>\n",
       "      <td>0.60</td>\n",
       "      <td>0.00</td>\n",
       "      <td>0.00</td>\n",
       "      <td>0.45</td>\n",
       "    </tr>\n",
       "    <tr>\n",
       "      <th>Wechselnd, Starke Stoße</th>\n",
       "      <td>0.45</td>\n",
       "      <td>0.00</td>\n",
       "      <td>0.00</td>\n",
       "      <td>0.25</td>\n",
       "    </tr>\n",
       "  </tbody>\n",
       "</table>\n",
       "</div>"
      ],
      "text/plain": [
       "                          Nutkeilen/Polygonwellen  Hohlkeile  Flachkeile  \\\n",
       "einseitig ruhend                             1.10       0.15        0.17   \n",
       "einseitig, leichte Stöße                     1.00       0.15        0.17   \n",
       "einseitig starke Stöße                       0.75       0.10        0.11   \n",
       "Wechelnd, leichte Stöße                      0.60       0.00        0.00   \n",
       "Wechselnd, Starke Stoße                      0.45       0.00        0.00   \n",
       "\n",
       "                          Passfeder/KeilWelle/Zahnwelle  \n",
       "einseitig ruhend                                   0.80  \n",
       "einseitig, leichte Stöße                           0.70  \n",
       "einseitig starke Stöße                             0.60  \n",
       "Wechelnd, leichte Stöße                            0.45  \n",
       "Wechselnd, Starke Stoße                            0.25  "
      ]
     },
     "metadata": {},
     "output_type": "display_data"
    },
    {
     "name": "stdout",
     "output_type": "stream",
     "text": [
      "d = 24.0mm\n",
      "d2 = 24.0mm\n",
      "d3 = 26.7mm\n",
      "pzul=105.0N/mm^2\n",
      "25.3093535001819\n",
      "1.0679052109781393\n"
     ]
    }
   ],
   "source": [
    "import numpy as np\n",
    "import math\n",
    "import matplotlib.pyplot as plt\n",
    "from ipynb.fs.full.Kl2_ha_Functions import EquivalenteP_const_n, lagerbelastung, passfeder, olagerbelastung, zylinder_lagerbelastung, Nadellager_lagerbelastung, EquivalenteP, n_Equivalent,EMLebensdauer, zahnwelle_lange"
   ]
  },
  {
   "cell_type": "code",
   "execution_count": 2,
   "id": "9ab4352a",
   "metadata": {},
   "outputs": [],
   "source": [
    "Pab=20000\n",
    "n_an1=1460\n",
    "n_ab1=350\n",
    "sigma_w=350\n",
    "rho_o=150\n",
    "Rz=0.02\n",
    "\n",
    "m_n=4\n",
    "z1=23\n",
    "z3=z1\n",
    "b=35\n",
    "beta=12\n",
    "alpha_n=20\n",
    "etha=100"
   ]
  },
  {
   "cell_type": "markdown",
   "id": "3a8cfe90",
   "metadata": {},
   "source": [
    "# Berechnung von Ubersetzung und Zähnezahl"
   ]
  },
  {
   "cell_type": "code",
   "execution_count": 3,
   "id": "fd185b99",
   "metadata": {},
   "outputs": [
    {
     "name": "stdout",
     "output_type": "stream",
     "text": [
      "i_ges= 4.171428571428572\n",
      "\n",
      "i12 = i34= 2.042407542932745\n",
      "\n",
      "46.97537348745313\n",
      "z2 = z4 = 47\n",
      "\n"
     ]
    }
   ],
   "source": [
    "\n",
    "\n",
    "\n",
    "i_ges=n_an1/n_ab1\n",
    "print(f\"i_ges= {i_ges}\\n\")\n",
    "\n",
    "i12 = math.sqrt(i_ges)\n",
    "i34 = i12\n",
    "print(f\"i12 = i34= {i34}\\n\")\n",
    "\n",
    "z2 = i12 * z1\n",
    "print(z2)\n",
    "z2_real = round(z2)\n",
    "print(f\"z2 = z4 = {z2_real}\\n\")"
   ]
  },
  {
   "cell_type": "markdown",
   "id": "872ffebf",
   "metadata": {},
   "source": [
    "# Berechnung von Abweichung von Drehzahlen"
   ]
  },
  {
   "cell_type": "code",
   "execution_count": 4,
   "id": "08dad8ef",
   "metadata": {},
   "outputs": [
    {
     "name": "stdout",
     "output_type": "stream",
     "text": [
      "2.0434782608695654\n",
      "i_ges_real= 4.175803402646504\n",
      "\n",
      "n_ab_real = 349.633318243549\n",
      "\n",
      "delta_n= -0.0010476621612885344\n"
     ]
    }
   ],
   "source": [
    "i_12_real = z2_real/z1\n",
    "print(i_12_real)\n",
    "\n",
    "i_ges_real = (z2_real/z1)**2\n",
    "print(f\"i_ges_real= {i_ges_real}\\n\")\n",
    "\n",
    "n_ab_real = n_an1/i_ges_real\n",
    "print(f\"n_ab_real = {n_ab_real}\\n\")\n",
    "\n",
    "delta_n = (n_ab_real - n_ab1)/n_ab1\n",
    "print(f\"delta_n= {delta_n}\")\n",
    "\n",
    "\n"
   ]
  },
  {
   "cell_type": "markdown",
   "id": "280c00a1",
   "metadata": {},
   "source": [
    "# Zahnrad geometrien"
   ]
  },
  {
   "cell_type": "code",
   "execution_count": 5,
   "id": "6898d734",
   "metadata": {},
   "outputs": [
    {
     "name": "stdout",
     "output_type": "stream",
     "text": [
      "mt= 4.089362379460117\n",
      "\n",
      "Zahnrad1:\n",
      "d1= 94.05533472758269mm\n",
      "da1= 102.05533472758269mm\n",
      "df1= 84.05533472758269mm\n",
      "\n",
      "Zahnrad2:\n",
      "d2= 192.09932510067904mm\n",
      "da2= 200.09932510067904mm\n",
      "df2= 182.09932510067904mm\n",
      "\n",
      "Zahnrad3:\n",
      "d3= 94.05533472758269mm\n",
      "da3= 102.05533472758269mm\n",
      "df3= 84.05533472758269mm\n",
      "\n",
      "Zahnrad4:\n",
      "d4= 192.09932510067904mm\n",
      "da4= 200.09932510067904mm\n",
      "df4= 182.09932510067904mm\n",
      "\n",
      "a12 = a34 =143.07732991413087mm\n"
     ]
    }
   ],
   "source": [
    "\n",
    "\n",
    "mt = m_n/np.cos(math.radians(beta))\n",
    "print(f\"mt= {mt}\")\n",
    "print()\n",
    "\n",
    "d1= z1 * mt\n",
    "d2= z2 * mt\n",
    "d3 = d1\n",
    "d4 = d2\n",
    "\n",
    "da1 = d1 +2*m_n\n",
    "da2 = d2 +2*m_n\n",
    "da3 = da1\n",
    "da4 = da2\n",
    "\n",
    "df1 = d1 -2*(m_n+ 0.25*m_n)\n",
    "df2 = d2 -2*(m_n+ 0.25*m_n)\n",
    "df3 =df1\n",
    "df4 = df2\n",
    "\n",
    "di = [d1,d2,d3,d4]\n",
    "dai = [da1,da2,da3,da4]\n",
    "dfi = [df1,df2,df3,df4]\n",
    "\n",
    "a12 = 0.5*(d1+d2)\n",
    "\n",
    "for i in range(4):\n",
    "    print(f\"Zahnrad{i+1}:\")\n",
    "    print(f\"d{i+1}= {di[i]}mm\")\n",
    "    print(f\"da{i+1}= {dai[i]}mm\")\n",
    "    print(f\"df{i+1}= {dfi[i]}mm\\n\")\n",
    "    \n",
    "print(f\"a12 = a34 ={a12}mm\")\n",
    "    \n",
    "\n",
    "\n"
   ]
  },
  {
   "cell_type": "markdown",
   "id": "266275fa",
   "metadata": {},
   "source": [
    "# Berechnung der Zahnradkräfte"
   ]
  },
  {
   "cell_type": "code",
   "execution_count": 6,
   "id": "6aafb1ba",
   "metadata": {},
   "outputs": [
    {
     "name": "stdout",
     "output_type": "stream",
     "text": [
      "M_ab= 545674.090600784Nmm\n",
      "M_an= 130812.28199333863Nmm\n",
      "\n",
      "Zahnradkräfte1:\n",
      "Ft1= 2781.602603876048N\n",
      "Fr1= 1035.038628739391N\n",
      "Fa1= 591.2478854122733N\n",
      "\n",
      "Zahnradkräfte2:\n",
      "Ft2= 2781.602603876048N\n",
      "Fr2= 1035.038628739391N\n",
      "Fa2= 591.2478854122733N\n",
      "\n",
      "Zahnradkräfte3:\n",
      "Ft3= 5681.1661395978035N\n",
      "Fr3= 2113.970702564097N\n",
      "Fa3= 1207.569140909062N\n",
      "\n",
      "Zahnradkräfte4:\n",
      "Ft4= 5681.1661395978035N\n",
      "Fr4= 2113.970702564097N\n",
      "Fa4= 1207.569140909062N\n",
      "\n"
     ]
    }
   ],
   "source": [
    "\n",
    "\n",
    "M_ab = (Pab*60000)/(2*math.pi*n_ab1)\n",
    "M_an = M_ab/i_ges\n",
    "\n",
    "print(f\"M_ab= {M_ab}Nmm\")\n",
    "print(f\"M_an= {M_an}Nmm\\n\")\n",
    "\n",
    "Ft1 = (2*M_an)/d1\n",
    "Fr1 = Ft1 * np.tan(math.radians(alpha_n))/np.cos(math.radians(beta))\n",
    "Fa1 = Ft1 * np.tan(math.radians(beta))\n",
    "\n",
    "Ft2 = Ft1\n",
    "Fr2 = Fr1\n",
    "Fa2 = Fa1\n",
    "\n",
    "Ft3 = (2*M_ab)/d4\n",
    "Fr3 = Ft3 * np.tan(math.radians(alpha_n))/np.cos(math.radians(beta))\n",
    "Fa3 = Ft3 * np.tan(math.radians(beta))\n",
    "\n",
    "Ft4 = Ft3\n",
    "Fr4 = Fr3\n",
    "Fa4 = Fa3\n",
    "\n",
    "Fti = [Ft1,Ft2,Ft3,Ft4]\n",
    "Fri = [Fr1,Fr2,Fr3,Fr4]\n",
    "Fai = [Fa1,Fa2,Fa3,Fa4]\n",
    "\n",
    "for i in range(4):\n",
    "    print(f\"Zahnradkräfte{i+1}:\")\n",
    "    print(f\"Ft{i+1}= {Fti[i]}N\")\n",
    "    print(f\"Fr{i+1}= {Fri[i]}N\")\n",
    "    print(f\"Fa{i+1}= {Fai[i]}N\\n\")\n",
    "\n",
    "\n",
    "\n",
    "\n"
   ]
  },
  {
   "cell_type": "markdown",
   "id": "760d8266",
   "metadata": {},
   "source": [
    "# Wirkende Torsionsmomente \n"
   ]
  },
  {
   "cell_type": "code",
   "execution_count": 7,
   "id": "b40ee58d",
   "metadata": {},
   "outputs": [
    {
     "name": "stdout",
     "output_type": "stream",
     "text": [
      "T1= 130.81228199333864Nm\n",
      "T2= 267.17199145144014Nm\n",
      "T3= 267.1719914514401Nm\n",
      "T4= 545.6740906007841Nm\n"
     ]
    }
   ],
   "source": [
    "\n",
    "T1=M_an/1000\n",
    "T2=(Ft2*d2)/2000\n",
    "T3=(Ft3*d3)/2000\n",
    "T4=M_ab/1000\n",
    "\n",
    "Ti = [T1,T2,T3,T4]\n",
    "\n",
    "for i in range(len(Ti)):\n",
    "    print(f\"T{i+1}= {Ti[i]}Nm\")"
   ]
  },
  {
   "cell_type": "code",
   "execution_count": null,
   "id": "1a63e8df",
   "metadata": {},
   "outputs": [],
   "source": []
  },
  {
   "cell_type": "code",
   "execution_count": 8,
   "id": "a508cc2f",
   "metadata": {},
   "outputs": [],
   "source": [
    "# Sicherheit = 3 (Wirschaftlich konstruieren)\n",
    "s=3"
   ]
  },
  {
   "cell_type": "markdown",
   "id": "a38f3198",
   "metadata": {},
   "source": [
    "# Welle Durchmesser nach Niemann/Winter (reine Torsion)"
   ]
  },
  {
   "cell_type": "code",
   "execution_count": 9,
   "id": "88865fbd",
   "metadata": {},
   "outputs": [
    {
     "name": "stdout",
     "output_type": "stream",
     "text": [
      "dw1 = 16mm\n",
      "dw2 = 21mm\n",
      "dw3 = 21mm\n",
      "dw4 = 26mm\n"
     ]
    }
   ],
   "source": [
    "\n",
    "\n",
    "dwi=[]\n",
    "for i in range(len(Ti)):\n",
    "    dw = 1.72* ((0.7*s*Ti[i]*1000)/sigma_w)**(1/3)\n",
    "    print(f\"dw{i+1} = {math.ceil(dw)}mm\")\n",
    "    dwi.append(dw)\n",
    "    \n",
    "dw1=math.ceil(dwi[0])\n",
    "dw2=math.ceil(dwi[1])\n",
    "dw3=math.ceil(dwi[2])\n",
    "dw4=math.ceil(dwi[3])\n",
    "\n",
    "    "
   ]
  },
  {
   "cell_type": "markdown",
   "id": "adfa849b",
   "metadata": {},
   "source": []
  },
  {
   "cell_type": "code",
   "execution_count": null,
   "id": "f7c9e777",
   "metadata": {},
   "outputs": [],
   "source": []
  },
  {
   "cell_type": "markdown",
   "id": "80e72bb7",
   "metadata": {},
   "source": [
    "# Längenangaben (mm)"
   ]
  },
  {
   "cell_type": "code",
   "execution_count": 10,
   "id": "e6b28deb",
   "metadata": {},
   "outputs": [],
   "source": [
    "\n",
    "\n",
    "lan1=80\n",
    "lan2=105\n",
    "lzw1=80\n",
    "lzw2=131.3\n",
    "lzw3=182.2\n",
    "lab1=51.3\n",
    "lab2=103.9"
   ]
  },
  {
   "cell_type": "markdown",
   "id": "55678ccd",
   "metadata": {},
   "source": [
    "# Lagerkräfte Berechnung"
   ]
  },
  {
   "cell_type": "code",
   "execution_count": 11,
   "id": "6c5c9698",
   "metadata": {
    "scrolled": true
   },
   "outputs": [],
   "source": [
    "\n",
    "\n",
    "### Using linear algebra the system of equations is going to be written like A*X = B, \n",
    "\n",
    "#A represents the factors\n",
    "#X represents all the Bearing forces\n",
    "#B represents the solutions\n",
    "\n",
    "A=np.array([[1,0,1,0,0,0,0,0,0,1,0,0,0,0],\n",
    "            [0,1,0,1,0,0,0,0,0,0,1,0,0,0],\n",
    "            [0,0,0,lan1,0,0,0,0,0,0,lan2,0,0,0],\n",
    "            [0,0,lan1,0,0,0,0,0,0,lan2,0,0,0,0],\n",
    "            [0,0,0,0,1,0,0,0,0,0,0,0,0,0],\n",
    "            [0,0,0,0,0,1,0,1,0,0,0,0,0,0],\n",
    "            [0,0,0,0,0,0,1,0,1,0,0,0,0,0],\n",
    "            [0,0,0,0,0,0,0,0,lzw3,0,0,0,0,0],\n",
    "            [0,0,0,0,0,0,0,lzw3,0,0,0,0,0,0],\n",
    "            [0,0,0,0,0,0,0,0,0,0,0,1,0,0],\n",
    "            [0,0,0,0,0,0,0,0,0,1,0,0,1,0],\n",
    "            [0,0,0,0,0,0,0,0,0,0,1,0,0,1],\n",
    "            [0,0,0,0,0,0,0,0,0,0,lab2,0,0,0],\n",
    "            [0,0,0,0,0,0,0,0,0,lab2,0,0,0,0]])\n",
    "\n",
    "B=np.array([Fr1,\n",
    "            Ft1,\n",
    "            Ft1*lan2,\n",
    "            Fr1*lan2-Fa1*(d1/2),\n",
    "            Fa3-Fa1,\n",
    "            Fr1-Fr3,\n",
    "            Ft1-Ft3,\n",
    "            Ft1*lzw1-Ft3*lzw2,\n",
    "            Fr1*lzw1+Fa1*(d2/2)+Fr3*lzw2-Fa3*(d3/2),\n",
    "            -Fa3,\n",
    "            -Fr3,\n",
    "            Ft3,\n",
    "            Ft3*(-lab1+lab2),\n",
    "            Fr3*(lab1-lab2)+Fa3*(d4/2)])\n",
    "\n",
    "\n",
    "X=np.linalg.solve(A,B)\n",
    "Ay = X[0]\n",
    "Az = X[1] \n",
    "By = X[2]\n",
    "Bz = X[3]\n",
    "Cx = X[4]\n",
    "Cy = X[5]\n",
    "Cz = X[6]\n",
    "Dy = X[7]\n",
    "Dz = X[8]\n",
    "Ey = X[9]\n",
    "Ez = X[10]\n",
    "Fx = X[11]\n",
    "Fy = X[12]\n",
    "Fz = X[13]\n",
    "\n",
    "\n"
   ]
  },
  {
   "cell_type": "code",
   "execution_count": 12,
   "id": "abc67d13",
   "metadata": {},
   "outputs": [],
   "source": [
    "Cy=(Fr1*(lzw3-lzw1)-Fa1*(d2/2)+Fr3*(lzw3-lzw2)+Fa3*(d3/2))/lzw3\n",
    "Cz = (Ft1*(lzw3-lzw1)+Ft3*(lzw2-lzw3))/lzw3\n",
    "\n",
    "Dy=(Fr1+Fr3)-Cy\n",
    "Dz=(Ft1-Ft3)-Cz"
   ]
  },
  {
   "cell_type": "code",
   "execution_count": 13,
   "id": "3c7ac5b2",
   "metadata": {},
   "outputs": [
    {
     "name": "stdout",
     "output_type": "stream",
     "text": [
      "Fra/Ya = 1681.5043681505483 ; Frb/Yb= 85.16797191821628\n",
      "Fall 3:\n",
      "0.5*958.4574898458125/0.57\n",
      "798.168198116166\n",
      "Resultierende Axialkräfte\n",
      "\n",
      "Lager Ax:249.5042986630009 N\n",
      "\n",
      "Lager Bx:840.7521840752742 N\n"
     ]
    }
   ],
   "source": [
    "#Radialkräfte der Lager [N]\n",
    "Fra=(By**2+Bz**2)**0.5\n",
    "Frb=(Ay**2+Az**2)**0.5\n",
    "Ka=Fa1\n",
    "Ya= 0.57\n",
    "Yb=Ya\n",
    "\n",
    "\n",
    "#Belastungsverhältnisse\n",
    "\n",
    "print(f\"Fra/Ya = {Fra/Yb} ; Frb/Yb= {Frb/Yb}\")\n",
    "\n",
    "if Fra/Ya <= Frb/Yb and Ka >= 0:\n",
    "    print(\"Fall 1:\")\n",
    "    Fa=Ka + 0.5*(Frb/Yb)\n",
    "    Fb=0.5*Frb/Yb\n",
    "elif Fra/Ya > Frb/Yb and Ka > 0.5*(Fra/Ya-Frb/Yb):\n",
    "    print(\"Fall 2:\")\n",
    "    Fa=Ka + 0.5*(Frb/Yb)\n",
    "    Fb=0.5*Frb/Yb\n",
    "elif Fra/Ya > Frb/Yb and Ka <= 0.5*(Fra/Ya-Frb/Yb):\n",
    "    print(\"Fall 3:\")\n",
    "    print(f\"0.5*{Fra}/{Yb}\")\n",
    "    Fa=0.5*(Fra/Ya)\n",
    "    Fb=0.5*Fra/Ya-Ka\n",
    "    print(f\"{0.5*(Fra/Ya-Frb/Yb)}\")\n",
    "    \n",
    "print('Resultierende Axialkräfte')\n",
    "print(f'\\nLager Ax:{Fb} N')\n",
    "print(f'\\nLager Bx:{Fa} N')\n",
    "\n",
    "Ax=Fb\n",
    "Bx=Fa"
   ]
  },
  {
   "cell_type": "code",
   "execution_count": 14,
   "id": "c45afe31",
   "metadata": {},
   "outputs": [
    {
     "name": "stdout",
     "output_type": "stream",
     "text": [
      "Ax: 249.5N\n",
      "Ay: 38.53N\n",
      "Az: 29.54N\n",
      "Bx: 840.75N\n",
      "By: 950.39N\n",
      "Bz: -124.06N\n",
      "Cx: 616.32N\n",
      "Cy: 1171.14N\n",
      "Cz: -26.85N\n",
      "Dy: 1977.87N\n",
      "Dz: -2872.72N\n",
      "Ey: 46.12N\n",
      "Ez: 2876.12N\n",
      "Fx: -1207.57N\n",
      "Fy: -2160.09N\n",
      "Fz: 2805.04N\n"
     ]
    }
   ],
   "source": [
    "\n",
    "Lagerkräfte=[Ax,Ay,Az,Bx,By,Bz,Cx,Cy,Cz,Dy,Dz,Ey,Ez,Fx,Fy,Fz]\n",
    "name_Lagerkräfte=[\"Ax\",\"Ay\",\"Az\",\"Bx\",\"By\",\"Bz\",\"Cx\",\"Cy\",\"Cz\",\"Dy\",\"Dz\",\"Ey\",\"Ez\",\"Fx\",\"Fy\",\"Fz\"]\n",
    "\n",
    "\n",
    "\n",
    "for i in range(len(Lagerkräfte)):\n",
    "    print(f\"{name_Lagerkräfte[i]}: {round(Lagerkräfte[i],2)}N\")\n"
   ]
  },
  {
   "cell_type": "markdown",
   "id": "e01d5bf6",
   "metadata": {},
   "source": [
    "\n",
    "\n",
    "\n",
    "\n",
    "# Erste Welle"
   ]
  },
  {
   "cell_type": "markdown",
   "id": "19eb0e65",
   "metadata": {},
   "source": [
    "## Schnittlasten Erste Welle"
   ]
  },
  {
   "cell_type": "code",
   "execution_count": 15,
   "id": "353c0b3c",
   "metadata": {},
   "outputs": [],
   "source": [
    "def Normal(x):\n",
    "    y = np.array([])\n",
    "    \n",
    "    for x_value in x:\n",
    "        if x_value<=lan1:\n",
    "            N=Ax\n",
    "            \n",
    "        else:\n",
    "            N=Ax-Bx\n",
    "        y = np.append(y,N)\n",
    "    return y\n",
    "\n",
    "\n",
    "def Q_ges(x):\n",
    "    y = np.array([])\n",
    "    for x_value in x:\n",
    "        if x_value<=lan1:\n",
    "            Qy=Ay\n",
    "            Qz=Az\n",
    "            Qges=np.sqrt(Qy**2 + Qz**2)\n",
    "        else:\n",
    "            Qy=Ay+By\n",
    "            Qz=Az+Bz\n",
    "            Qges=np.sqrt(Qy**2 + Qz**2)\n",
    "        y = np.append(y,Qges)\n",
    "    return y\n",
    "\n",
    "\n",
    "def M_t(x):\n",
    "    y = np.array([])\n",
    "    for x_value in x:\n",
    "        Mt = -M_an/1000\n",
    "        y = np.append(y,Mt)\n",
    "    return y\n",
    "\n",
    "\n",
    "def Mb_ges(x):\n",
    "    y = np.array([])\n",
    "    for x_value in x:\n",
    "        if x_value<=lan1:\n",
    "            Mby=(Az*x_value)\n",
    "            Mbz=(-Ay*x_value)\n",
    "            Mbges=np.sqrt((Mby**2) + (Mbz**2))/1000\n",
    "                 \n",
    "        else:\n",
    "            Mby=(Ez*(lan2-x_value))+(Ft1*(x_value-lan2))\n",
    "            Mbz=(Ey*(x_value-lan2))+(Fr1*(lan2-x_value))-(Fa1*(d1/2))\n",
    "            Mbges=np.sqrt((Mby**2) + (Mbz**2))/1000\n",
    "        y=np.append(y,Mbges)\n",
    "    return y\n",
    "            \n",
    "    \n",
    "def annot_max(x,y, ax=None):\n",
    "    xmax = x[np.argmax(y)]\n",
    "    ymax = y.max()\n",
    "    text= \"x={:.3f}, y={:.3f}\".format(xmax, ymax)\n",
    "    if not ax:\n",
    "        ax=plt.gca()\n",
    "    bbox_props = dict(boxstyle=\"square,pad=0.3\", fc=\"w\", ec=\"k\", lw=0.72)\n",
    "    arrowprops=dict(arrowstyle=\"->\",connectionstyle=\"angle,angleA=0,angleB=60\")\n",
    "    kw = dict(xycoords='data',textcoords=\"axes fraction\",\n",
    "              arrowprops=arrowprops, bbox=bbox_props, ha=\"right\", va=\"top\")\n",
    "    ax.annotate(text, xy=(xmax, ymax), xytext=(0.94,0.96), **kw)\n",
    "        \n",
    "        \n",
    "\n",
    "        "
   ]
  },
  {
   "cell_type": "markdown",
   "id": "18f4e077",
   "metadata": {},
   "source": [
    "## Schnittkräfte"
   ]
  },
  {
   "cell_type": "code",
   "execution_count": 16,
   "id": "84ba5871",
   "metadata": {},
   "outputs": [
    {
     "name": "stdout",
     "output_type": "stream",
     "text": [
      "249.5042986630009\n",
      "-591.2478854122733\n"
     ]
    },
    {
     "data": {
      "image/png": "[encoded data removed]",
      "text/plain": [
       "<Figure size 432x288 with 1 Axes>"
      ]
     },
     "metadata": {
      "needs_background": "light"
     },
     "output_type": "display_data"
    }
   ],
   "source": [
    "plt.xlim(0,lan2)\n",
    "\n",
    "ax = plt.subplot()\n",
    "\n",
    "x = np.linspace(0,lan2,500)\n",
    "\n",
    "y = Normal(x)\n",
    "plt.plot(x,y,\"-r\")\n",
    "\n",
    "\n",
    "plt.title(\"Normalkraftverlauf\")\n",
    "plt.ylabel(\"Normalkraft [N]\")\n",
    "plt.xlabel(\"Stelle [mm]\")\n",
    "\n",
    "print(max(y))\n",
    "print(min(y))\n"
   ]
  },
  {
   "cell_type": "code",
   "execution_count": null,
   "id": "a55ca40c",
   "metadata": {},
   "outputs": [],
   "source": []
  },
  {
   "cell_type": "markdown",
   "id": "eb135262",
   "metadata": {},
   "source": [
    "## Schnitt-momente "
   ]
  },
  {
   "cell_type": "code",
   "execution_count": 17,
   "id": "6a729686",
   "metadata": {},
   "outputs": [
    {
     "name": "stdout",
     "output_type": "stream",
     "text": [
      "-130.81228199333864\n",
      "27.805008884713406\n"
     ]
    },
    {
     "data": {
      "text/plain": [
       "Text(0.5, 0, 'Stelle [mm]')"
      ]
     },
     "execution_count": 17,
     "metadata": {},
     "output_type": "execute_result"
    },
    {
     "data": {
      "image/png": "[encoded data removed]",
      "text/plain": [
       "<Figure size 432x288 with 1 Axes>"
      ]
     },
     "metadata": {
      "needs_background": "light"
     },
     "output_type": "display_data"
    }
   ],
   "source": [
    "plt.xlim(0,lan2)\n",
    "plt.ylim(-180, 200)\n",
    "x = np.linspace(0,lan2,500)\n",
    "ax = plt.subplot()\n",
    "\n",
    "y = M_t(x)\n",
    "print(max(y))\n",
    "\n",
    "plt.plot(x,y,label=\"Torsionmoment\")\n",
    "\n",
    "y = Mb_ges(x)\n",
    "print(max(y))\n",
    "\n",
    "plt.plot(x,y,\"-g\",label=\"Biegemoment\")\n",
    "leg = ax.legend()\n",
    "\n",
    "plt.title(\"Schnittmomentenverlauf\")\n",
    "plt.ylabel(\"Moment [Nm]\")\n",
    "plt.xlabel(\"Stelle [mm]\")\n"
   ]
  },
  {
   "cell_type": "code",
   "execution_count": null,
   "id": "74e4b21a",
   "metadata": {},
   "outputs": [],
   "source": []
  },
  {
   "cell_type": "markdown",
   "id": "231f47dc",
   "metadata": {},
   "source": []
  },
  {
   "cell_type": "markdown",
   "id": "3678a4ae",
   "metadata": {},
   "source": [
    "# Lager Lebensdauer"
   ]
  },
  {
   "cell_type": "code",
   "execution_count": 18,
   "id": "4527a0bc",
   "metadata": {},
   "outputs": [],
   "source": [
    "a_iso = 1\n",
    "a1 = 0.25"
   ]
  },
  {
   "cell_type": "markdown",
   "id": "455fb8f6",
   "metadata": {},
   "source": [
    "## Lager A"
   ]
  },
  {
   "cell_type": "code",
   "execution_count": null,
   "id": "fbd6d883",
   "metadata": {},
   "outputs": [],
   "source": []
  },
  {
   "cell_type": "code",
   "execution_count": 19,
   "id": "a970b9dd",
   "metadata": {},
   "outputs": [],
   "source": [
    "#lager: FAG 7007-B-XL-TVP\n",
    "Cr_A=24300"
   ]
  },
  {
   "cell_type": "code",
   "execution_count": 20,
   "id": "fdaab9b1",
   "metadata": {},
   "outputs": [
    {
     "name": "stdout",
     "output_type": "stream",
     "text": [
      "Die resultierende Radiallast ist: 48.545743993383276 N\n",
      "Die resultierende Axiallast ist: 249.5042986630009 N\n",
      "FA/FR > 1.14 --> P = 0.57*FR + 0.93 * FAx\n",
      "Der Wert der äquivalenten Lagerbelastung ist: 259.7100718328193 N\n",
      "\n",
      "1534512686333.66\n",
      "0.0\n",
      "Equivalente P= 3980.3655546619316 N\n",
      "n_eq = 876.0\n",
      "EM Lebensdauer = 3896162.803505173 h\n"
     ]
    }
   ],
   "source": [
    "Cr_A=24300\n",
    "P_A1 = olagerbelastung(n_an1,Ax,Ay,Az)\n",
    "P_A2 = 0\n",
    "print()\n",
    "Peq_A = EquivalenteP(P_A1, 1, n_an1, P_A2, 1, 0, 9/3)\n",
    "neq_A = n_Equivalent(n_an1,0)\n",
    "EMLebensdauer(a1, a_iso,Cr_A, Peq_A,neq_A , 9/3)"
   ]
  },
  {
   "cell_type": "code",
   "execution_count": null,
   "id": "39de625e",
   "metadata": {},
   "outputs": [],
   "source": []
  },
  {
   "cell_type": "code",
   "execution_count": null,
   "id": "3180c3e4",
   "metadata": {},
   "outputs": [],
   "source": []
  },
  {
   "cell_type": "markdown",
   "id": "fa66702b",
   "metadata": {},
   "source": [
    "## Lager B"
   ]
  },
  {
   "cell_type": "code",
   "execution_count": 21,
   "id": "af45af26",
   "metadata": {},
   "outputs": [],
   "source": [
    "#Lager: FAG 7008-B-XL- TVP"
   ]
  },
  {
   "cell_type": "code",
   "execution_count": 22,
   "id": "e80ff9b9",
   "metadata": {},
   "outputs": [],
   "source": [
    "Cr_B=28000"
   ]
  },
  {
   "cell_type": "markdown",
   "id": "e38d5f6d",
   "metadata": {},
   "source": [
    "## Lager C"
   ]
  },
  {
   "cell_type": "code",
   "execution_count": 23,
   "id": "165ca9dd",
   "metadata": {},
   "outputs": [
    {
     "name": "stdout",
     "output_type": "stream",
     "text": [
      "n_2 = 715.22 U/min\n"
     ]
    }
   ],
   "source": [
    "n_2 = n_ab1 * i_12_real\n",
    "print(f\"n_2 = {round(n_2,2)} U/min\")\n",
    "\n",
    "#n_2 = ((60 * n_2)+(40 * 0))/100\n"
   ]
  },
  {
   "cell_type": "code",
   "execution_count": 24,
   "id": "2f8bf23c",
   "metadata": {},
   "outputs": [],
   "source": [
    "#Lager: 16011-A\n",
    "Cr_C=19300\n",
    "Cor_C=16300\n",
    "fo_C =16.20\n",
    "\n",
    "if Cx < 0 :\n",
    "    Cx=-1*Cx"
   ]
  },
  {
   "cell_type": "code",
   "execution_count": 25,
   "id": "62d14ac0",
   "metadata": {},
   "outputs": [
    {
     "name": "stdout",
     "output_type": "stream",
     "text": [
      "Die resultierende Radiallast ist: 1171.4496 N\n",
      "Die resultierende Axiallast ist: 616.3212554967888 N\n",
      "Der Faktor FA/FR ist 0.5261\n",
      " fo*FA/Cro = 0.612540143499876\n",
      "Der Wert von e (interpoliert) ist: 0.2513\n",
      "Der Wert von y (interpoliert) ist: 1.7381\n",
      "P= x*FR + y*FA\n",
      "Der Wert der äquivalenten Lagerbelastung ist: 1727.1779 N\n",
      "309145170288.26886\n",
      "0.0\n",
      "Equivalente P= 1456.758257960412 N\n",
      "715.2173913043479\n",
      "EM Lebensdauer = 13547.53098732706 h\n"
     ]
    }
   ],
   "source": [
    "P_C1 = lagerbelastung(Cor_C,fo_C,n_2,Cx,Cy,Cz)\n",
    "P_C2 = 0\n",
    "\n",
    "Peq_C = EquivalenteP_const_n(P_C1, 1, n_2, P_C2, 1, n_2, 9/3)\n",
    "\n",
    "neq_C = n_2\n",
    "print(neq_C)\n",
    "EMLebensdauer(a1, a_iso,Cr_C, Peq_C,neq_C , 9/3)"
   ]
  },
  {
   "cell_type": "code",
   "execution_count": null,
   "id": "4a1d1c95",
   "metadata": {},
   "outputs": [],
   "source": []
  },
  {
   "cell_type": "markdown",
   "id": "05bcf189",
   "metadata": {},
   "source": [
    "## Lager D"
   ]
  },
  {
   "cell_type": "code",
   "execution_count": 26,
   "id": "7c434d47",
   "metadata": {},
   "outputs": [],
   "source": [
    "\n",
    "#lager: 6308\n",
    "Cr_D=45500\n",
    "Cor_D=25000\n",
    "fo_D =13\n",
    "Dx=0\n",
    "\n",
    "if Dx < 0 :\n",
    "    Dx=-1*Cx\n"
   ]
  },
  {
   "cell_type": "code",
   "execution_count": 27,
   "id": "c6ae3ab3",
   "metadata": {},
   "outputs": [
    {
     "name": "stdout",
     "output_type": "stream",
     "text": [
      "Die resultierende Radiallast ist: 3487.7584 N\n",
      "Die resultierende Axiallast ist: 0 N\n",
      "Der Faktor FA/FR ist 0.0000\n",
      " fo*FA/Cro = 0.0\n",
      "Der Wert von e (interpoliert) ist: 0.2200\n",
      "Der Wert von y (interpoliert) ist: 2.0000\n",
      "P=FR\n",
      "Der Wert der äquivalenten Lagerbelastung ist: 3487.7584 N\n",
      "2545601470927.9355\n",
      "0.0\n",
      "Equivalente P= 2941.6893244247094 N\n",
      "\n",
      "EM Lebensdauer = 21557.305120549663 h\n"
     ]
    }
   ],
   "source": [
    "P_D1 = lagerbelastung(Cor_D,fo_D,n_2,Dx,Dy,Dz)\n",
    "P_D2 = 0\n",
    "\n",
    "Peq_D = EquivalenteP_const_n(P_D1, 1, n_2, P_D2, 1, n_2, 9/3)\n",
    "\n",
    "neq_D = n_2\n",
    "\n",
    "print()\n",
    "EMLebensdauer(a1, a_iso,Cr_D, Peq_D,neq_D , 9/3)"
   ]
  },
  {
   "cell_type": "code",
   "execution_count": null,
   "id": "49ff94b8",
   "metadata": {},
   "outputs": [],
   "source": []
  },
  {
   "cell_type": "markdown",
   "id": "bf6a1ca7",
   "metadata": {},
   "source": [
    "## Lager F"
   ]
  },
  {
   "cell_type": "code",
   "execution_count": 28,
   "id": "a63290cd",
   "metadata": {},
   "outputs": [],
   "source": [
    "#Lager: 6308-C\n",
    "\n",
    "#Cr_F=47000\n",
    "#Cor_F=25000\n",
    "#fo_F =13.00\n",
    "\n",
    "#falls 6307-c\n",
    "\n",
    "Cr_F=37000\n",
    "Cor_F=19100\n",
    "fo_F =13.10\n",
    "\n",
    "\n",
    "if Fx <0:\n",
    "    Fx= (-1)*Fx\n",
    "    \n"
   ]
  },
  {
   "cell_type": "code",
   "execution_count": 29,
   "id": "6fe9debc",
   "metadata": {},
   "outputs": [
    {
     "name": "stdout",
     "output_type": "stream",
     "text": [
      "350 U/min\n"
     ]
    }
   ],
   "source": [
    "#n_F = n_ab1 \n",
    "n_F = n_ab1\n",
    "\n",
    "print(f\"{n_F} U/min\")"
   ]
  },
  {
   "cell_type": "code",
   "execution_count": 30,
   "id": "5781402c",
   "metadata": {},
   "outputs": [
    {
     "name": "stdout",
     "output_type": "stream",
     "text": [
      "Die resultierende Radiallast ist: 3540.3736 N\n",
      "Die resultierende Axiallast ist: 1207.569140909062 N\n",
      "Der Faktor FA/FR ist 0.3411\n",
      " fo*FA/Cro = 0.8282280495240164\n",
      "Der Wert von e (interpoliert) ist: 0.2728\n",
      "Der Wert von y (interpoliert) ist: 1.6195\n",
      "P= x*FR + y*FA\n",
      "Der Wert der äquivalenten Lagerbelastung ist: 3937.6637 N\n",
      "3663254571901.366\n",
      "0.0\n",
      "Equivalente P= 3321.1541482247453 N\n",
      "EM Lebensdauer = 16461.097445622512 h\n"
     ]
    }
   ],
   "source": [
    "P_F1 = lagerbelastung(Cor_F,fo_F,n_F,Fx,Fy,Fz)\n",
    "P_F2 = 0\n",
    "\n",
    "Peq_F = EquivalenteP_const_n(P_F1, 1, n_F, P_F2, 1, n_F, 9/3)\n",
    "\n",
    "neq_F = n_ab1\n",
    "\n",
    "EMLebensdauer(a1, a_iso, Cr_F, Peq_F, neq_F, 9/3)"
   ]
  },
  {
   "cell_type": "code",
   "execution_count": null,
   "id": "77c1e449",
   "metadata": {},
   "outputs": [],
   "source": []
  },
  {
   "cell_type": "markdown",
   "id": "075ffe8e",
   "metadata": {},
   "source": [
    "## Lager E"
   ]
  },
  {
   "cell_type": "code",
   "execution_count": null,
   "id": "7c145cde",
   "metadata": {},
   "outputs": [],
   "source": []
  },
  {
   "cell_type": "code",
   "execution_count": null,
   "id": "c9e19c59",
   "metadata": {},
   "outputs": [],
   "source": []
  },
  {
   "cell_type": "code",
   "execution_count": 31,
   "id": "58115c2e",
   "metadata": {},
   "outputs": [
    {
     "name": "stdout",
     "output_type": "stream",
     "text": [
      "1110\n"
     ]
    }
   ],
   "source": [
    "n_e = n_an1 - n_ab1\n",
    "print(n_e)"
   ]
  },
  {
   "cell_type": "code",
   "execution_count": null,
   "id": "a7ba9b00",
   "metadata": {},
   "outputs": [],
   "source": []
  },
  {
   "cell_type": "code",
   "execution_count": 32,
   "id": "88c86255",
   "metadata": {},
   "outputs": [],
   "source": [
    "#lager: NK32/20-TV-XL\n",
    "Ex=0\n",
    "Cr_E=28000"
   ]
  },
  {
   "cell_type": "code",
   "execution_count": 33,
   "id": "96549736",
   "metadata": {},
   "outputs": [
    {
     "name": "stdout",
     "output_type": "stream",
     "text": [
      "2876.494268475221\n",
      "2.2543392500405224e+16\n",
      "0.0\n",
      "Equivalente P= 33554.76976354251 N\n",
      "n_eq = 806.0\n",
      "EM Lebensdauer = 12320.535664241088 h\n"
     ]
    }
   ],
   "source": [
    "P_E1 = Nadellager_lagerbelastung(n_e,Ey,Ez)\n",
    "P_E2 = 0\n",
    "\n",
    "Peq_E = EquivalenteP(P_E1, 1, n_e, P_E2, 1, n_ab1, 10/3)\n",
    "\n",
    "neq_E = n_Equivalent(n_e,n_ab1)\n",
    "\n",
    "EMLebensdauer(a1, a_iso,Cr_E, Peq_E,neq_E , 10/3)"
   ]
  },
  {
   "cell_type": "markdown",
   "id": "c999ae9d",
   "metadata": {},
   "source": [
    "# Welle-Nabe Verbindung"
   ]
  },
  {
   "cell_type": "code",
   "execution_count": null,
   "id": "abfbd431",
   "metadata": {},
   "outputs": [],
   "source": []
  },
  {
   "cell_type": "markdown",
   "id": "0921576a",
   "metadata": {},
   "source": []
  },
  {
   "cell_type": "code",
   "execution_count": null,
   "id": "3ad5d70d",
   "metadata": {},
   "outputs": [],
   "source": []
  },
  {
   "cell_type": "markdown",
   "id": "aec4cd49",
   "metadata": {},
   "source": [
    "## Tragfahigkeitnachweiss "
   ]
  },
  {
   "cell_type": "markdown",
   "id": "ec02a95c",
   "metadata": {},
   "source": [
    "### Funktionen for Schnittlasten an der stellen"
   ]
  },
  {
   "cell_type": "code",
   "execution_count": 34,
   "id": "b4158644",
   "metadata": {},
   "outputs": [],
   "source": [
    "def Mb_ges_an_der_stelle(x):\n",
    "    x_value = x -46\n",
    "    \n",
    "    if x_value<lan1:\n",
    "            Mby=(Az*x_value)\n",
    "            \n",
    "            Mbz=(-Ay*x_value)\n",
    "            \n",
    "            Mbges=np.sqrt((Mby**2) + (Mbz**2))/1000\n",
    "           \n",
    "                 \n",
    "    else:\n",
    "        Mby=(Ez*(lan2-x_value))+(Ft1*(x_value-lan2))\n",
    "       \n",
    "        Mbz=(Ey*(x_value-lan2))+(Fr1*(lan2-x_value))-(Fa1*(d1/2))\n",
    "        \n",
    "        Mbges=np.sqrt((Mby**2) + (Mbz**2))/1000\n",
    "     \n",
    "    return Mbges"
   ]
  },
  {
   "cell_type": "code",
   "execution_count": 35,
   "id": "0c8753d9",
   "metadata": {},
   "outputs": [],
   "source": [
    "def M_t_an_der_stelle(x):\n",
    "    return -M_an/1000"
   ]
  },
  {
   "cell_type": "code",
   "execution_count": 36,
   "id": "8c5514c4",
   "metadata": {},
   "outputs": [],
   "source": [
    "def Normalkraft_an_der_stelle(x):\n",
    "    x_value = x-46\n",
    "    if x_value<lan1:\n",
    "        N=Ax   \n",
    "    else:\n",
    "        N=Ax-Bx\n",
    "    return N\n",
    "\n",
    "    \n",
    "    "
   ]
  },
  {
   "cell_type": "code",
   "execution_count": 37,
   "id": "becea043",
   "metadata": {},
   "outputs": [],
   "source": [
    "def Qges_an_der_Stelle(x):\n",
    "    x_value = x -46\n",
    "    if x_value<lan1:\n",
    "        Qy=Ay\n",
    "        Qz=Az\n",
    "        Qges=np.sqrt(Qy**2 + Qz**2)\n",
    "    else:\n",
    "        Qy=Ay+By\n",
    "        Qz=Az+Bz\n",
    "        Qges=np.sqrt(Qy**2 + Qz**2)\n",
    "    return Qges\n",
    "    "
   ]
  },
  {
   "cell_type": "markdown",
   "id": "726db7ab",
   "metadata": {},
   "source": [
    "## Stelle B"
   ]
  },
  {
   "cell_type": "code",
   "execution_count": 38,
   "id": "41bc1b9c",
   "metadata": {},
   "outputs": [
    {
     "name": "stdout",
     "output_type": "stream",
     "text": [
      "Mt = -130.812 Nm\n",
      "Mb = 2.427 Nm\n",
      "N = 249.504 N\n",
      "Qges = 48.546 N\n"
     ]
    }
   ],
   "source": [
    "#x = 96\n",
    "stelle = 96\n",
    "print(f\"Mt = {round(M_t_an_der_stelle(stelle),3)} Nm\")\n",
    "print(f\"Mb = {round(Mb_ges_an_der_stelle(stelle),3)} Nm\")\n",
    "print(f\"N = {round(Normalkraft_an_der_stelle(stelle),3)} N\")\n",
    "print(f\"Qges = {round(Qges_an_der_Stelle(stelle),3)} N\")\n"
   ]
  },
  {
   "cell_type": "markdown",
   "id": "5e5771de",
   "metadata": {},
   "source": [
    "## Stelle A"
   ]
  },
  {
   "cell_type": "code",
   "execution_count": 39,
   "id": "1919c5d2",
   "metadata": {},
   "outputs": [
    {
     "name": "stdout",
     "output_type": "stream",
     "text": [
      "Mt = -130.812 Nm\n",
      "Mb = 0.0 Nm\n",
      "N = 249.504 N\n",
      "Qges = 48.546 N\n"
     ]
    }
   ],
   "source": [
    "#x = 96\n",
    "stelle = 46\n",
    "print(f\"Mt = {round(M_t_an_der_stelle(stelle),3)} Nm\")\n",
    "print(f\"Mb = {round(Mb_ges_an_der_stelle(stelle),3)} Nm\")\n",
    "print(f\"N = {round(Normalkraft_an_der_stelle(stelle),3)} N\")\n",
    "print(f\"Qges = {round(Qges_an_der_Stelle(stelle),3)} N\")"
   ]
  },
  {
   "cell_type": "markdown",
   "id": "33aaad18",
   "metadata": {},
   "source": [
    "## Stelle C"
   ]
  },
  {
   "cell_type": "code",
   "execution_count": 40,
   "id": "02012c16",
   "metadata": {},
   "outputs": [
    {
     "name": "stdout",
     "output_type": "stream",
     "text": [
      "Mt = -130.812 Nm\n",
      "Mb = 3.155 Nm\n",
      "N = 249.504N\n",
      "Qges = 48.546 N\n"
     ]
    }
   ],
   "source": [
    "stelle = 111\n",
    "print(f\"Mt = {round(M_t_an_der_stelle(stelle),3)} Nm\")\n",
    "print(f\"Mb = {round(Mb_ges_an_der_stelle(stelle),3)} Nm\")\n",
    "print(f\"N = {round(Normalkraft_an_der_stelle(stelle),3)}N\")\n",
    "print(f\"Qges = {round(Qges_an_der_Stelle(stelle),3)} N\")"
   ]
  },
  {
   "cell_type": "code",
   "execution_count": 41,
   "id": "d5fb6653",
   "metadata": {},
   "outputs": [
    {
     "name": "stdout",
     "output_type": "stream",
     "text": [
      "27.805008884713406\n"
     ]
    }
   ],
   "source": [
    "print(Mb_ges_an_der_stelle(151))"
   ]
  },
  {
   "cell_type": "markdown",
   "id": "8b2fde6f",
   "metadata": {},
   "source": [
    "# Mindest Durchmesser nach Niemand Biegung und Torsion"
   ]
  },
  {
   "cell_type": "code",
   "execution_count": 42,
   "id": "812cf5fc",
   "metadata": {},
   "outputs": [],
   "source": [
    "MT = M_t_an_der_stelle(lan2+46)*1000\n",
    "MB = Mb_ges_an_der_stelle(lan2+46)*1000\n",
    "Mv = np.sqrt(MB**2 + 0.4*MT**2)\n",
    "\n"
   ]
  },
  {
   "cell_type": "code",
   "execution_count": 43,
   "id": "fb556a6f",
   "metadata": {},
   "outputs": [],
   "source": [
    "S = 3\n",
    "Sigma_w = 350"
   ]
  },
  {
   "cell_type": "code",
   "execution_count": 44,
   "id": "c5a6e6a0",
   "metadata": {},
   "outputs": [],
   "source": [
    "sigma_b_zul = sigma_w /S"
   ]
  },
  {
   "cell_type": "code",
   "execution_count": null,
   "id": "c25e104e",
   "metadata": {},
   "outputs": [],
   "source": [
    "\n"
   ]
  },
  {
   "cell_type": "code",
   "execution_count": 45,
   "id": "685f2ace",
   "metadata": {},
   "outputs": [],
   "source": [
    "def Mindest_Durchmesser(MT,MB,s, sigma_W):\n",
    "    MT= MT*1000\n",
    "    MB = MB*1000\n",
    "    Mv = np.sqrt((MB**2) + 0.4*(MT**2))\n",
    "    d=2.17*((Mv/sigma_b_zul)**(1/3))\n",
    "    return d\n",
    "    "
   ]
  },
  {
   "cell_type": "code",
   "execution_count": 46,
   "id": "015524fc",
   "metadata": {},
   "outputs": [
    {
     "name": "stdout",
     "output_type": "stream",
     "text": [
      "19.699247329804656\n",
      "19.35101025830507\n"
     ]
    },
    {
     "data": {
      "text/plain": [
       "Text(0.5, 0, 'Stelle [mm]')"
      ]
     },
     "execution_count": 46,
     "metadata": {},
     "output_type": "execute_result"
    },
    {
     "data": {
      "image/png": "[encoded data removed]",
      "text/plain": [
       "<Figure size 432x288 with 1 Axes>"
      ]
     },
     "metadata": {
      "needs_background": "light"
     },
     "output_type": "display_data"
    }
   ],
   "source": [
    "plt.xlim(0,lan2)\n",
    "\n",
    "x = np.linspace(0,lan2,200)\n",
    "ax = plt.subplot()\n",
    "\n",
    "MT = M_t(x)\n",
    "MB = Mb_ges(x)\n",
    "y =Mindest_Durchmesser(MT,MB,S,Sigma_w)\n",
    "print(max(y))\n",
    "print(min(y))\n",
    "\n",
    "plt.plot(x,y,\"-r\")\n",
    "\n",
    "plt.title(\"Mindestdurchmechsserverlauf\")\n",
    "plt.ylabel(\"Durchmesser [mm]\")\n",
    "plt.xlabel(\"Stelle [mm]\")"
   ]
  },
  {
   "cell_type": "markdown",
   "id": "7e1739c4",
   "metadata": {},
   "source": [
    "# Schraubenflansch"
   ]
  },
  {
   "cell_type": "code",
   "execution_count": 47,
   "id": "fd7d30ad",
   "metadata": {},
   "outputs": [],
   "source": [
    "pzul_skopf= 500 #N/mm^2\n",
    "E_stahl = 210000 #GPa\n",
    "E_platten = 210000 #GPa\n",
    "alpha_A = 1.4 #Anziehfaktor Drehmomentenschlüssel\n",
    "Rsz = 10*10^-3 #mm (Gemittelte Rautiefe an den Trennfugen)\n",
    "PHI = 30\n",
    "\n",
    "n_=1\n",
    "lk = 2*7 #mm\n",
    "ut = 0.2\n",
    "\n",
    "\n"
   ]
  },
  {
   "cell_type": "code",
   "execution_count": 48,
   "id": "9c7fd8d5",
   "metadata": {},
   "outputs": [
    {
     "name": "stdout",
     "output_type": "stream",
     "text": [
      "130812.28199333863\n"
     ]
    }
   ],
   "source": [
    "#Schraube: 4mal M8x25 - 8.8\n",
    "\n",
    "SW = 13\n",
    "k = 5.3\n",
    "dw = 11.63\n",
    "e =14.4\n",
    "l = 25 \n",
    "Rm = 8*100\n",
    "Rp02 = 8*8*10\n",
    "w =1\n",
    "\n",
    "print(M_an)"
   ]
  },
  {
   "cell_type": "markdown",
   "id": "09031a5a",
   "metadata": {},
   "source": [
    "## Fqmax"
   ]
  },
  {
   "cell_type": "code",
   "execution_count": 49,
   "id": "91366377",
   "metadata": {},
   "outputs": [
    {
     "name": "stdout",
     "output_type": "stream",
     "text": [
      "Fq_max = 934.373 N\n"
     ]
    }
   ],
   "source": [
    "Fq_max = (2*M_an)/(4*70)\n",
    "print(f\"Fq_max = {round(Fq_max,3)} N\")"
   ]
  },
  {
   "cell_type": "markdown",
   "id": "f0782f32",
   "metadata": {},
   "source": [
    "### Klemmkraft"
   ]
  },
  {
   "cell_type": "code",
   "execution_count": 50,
   "id": "0a66c16d",
   "metadata": {},
   "outputs": [
    {
     "name": "stdout",
     "output_type": "stream",
     "text": [
      "130812.28199333863\n",
      "F_kerf = 4671.867 N\n"
     ]
    }
   ],
   "source": [
    "print(M_an)\n",
    "F_kerf = (2*M_an)/(4*ut*70)\n",
    "print(f\"F_kerf = {round(F_kerf,3)} N\")"
   ]
  },
  {
   "cell_type": "markdown",
   "id": "7ecda409",
   "metadata": {},
   "source": [
    "### Nachbiegigkeiten "
   ]
  },
  {
   "cell_type": "code",
   "execution_count": 51,
   "id": "34576b20",
   "metadata": {},
   "outputs": [],
   "source": [
    "#Aers Berechnung\n",
    "Da = 20 #mm\n",
    "dh = 9 #mm"
   ]
  },
  {
   "cell_type": "code",
   "execution_count": 52,
   "id": "b17a34c1",
   "metadata": {},
   "outputs": [
    {
     "name": "stdout",
     "output_type": "stream",
     "text": [
      "19.712903768654762\n"
     ]
    }
   ],
   "source": [
    "D_AGr = dw+ w*lk*math.tan(PHI * math.pi / 180)\n",
    "print(D_AGr)"
   ]
  },
  {
   "cell_type": "code",
   "execution_count": 53,
   "id": "63a2569d",
   "metadata": {},
   "outputs": [
    {
     "name": "stdout",
     "output_type": "stream",
     "text": [
      "yes\n"
     ]
    }
   ],
   "source": [
    "if D_AGr < Da:\n",
    "    print(\"yes\")"
   ]
  },
  {
   "cell_type": "code",
   "execution_count": 54,
   "id": "043d2708",
   "metadata": {},
   "outputs": [],
   "source": [
    "top1 = (dw+dh)*(dw+w*lk*math.tan(PHI * math.pi / 180)- dh)\n",
    "top2 = (dw-dh)*(dw+w*lk*math.tan(PHI * math.pi / 180)+ dh)\n",
    "top = 2*np.log(top1/top2)\n",
    "bot = w*E_platten*math.pi*dh*math.tan(PHI * math.pi / 180)"
   ]
  },
  {
   "cell_type": "code",
   "execution_count": 55,
   "id": "57b81248",
   "metadata": {},
   "outputs": [
    {
     "name": "stdout",
     "output_type": "stream",
     "text": [
      "Nachb_p = 6.3e-07mm/N\n"
     ]
    }
   ],
   "source": [
    "nachb_p = top/bot\n",
    "print(f\"Nachb_p = {round(nachb_p,8)}mm/N\")"
   ]
  },
  {
   "cell_type": "code",
   "execution_count": 56,
   "id": "35dfd07e",
   "metadata": {},
   "outputs": [],
   "source": [
    "#Gewinde daten:\n",
    "d = 8\n",
    "d2 = 7.19\n",
    "d3 = 6.47"
   ]
  },
  {
   "cell_type": "code",
   "execution_count": 57,
   "id": "0852780c",
   "metadata": {},
   "outputs": [
    {
     "name": "stdout",
     "output_type": "stream",
     "text": [
      "A_N = 50.26548245743669\n",
      "A_d3 = 32.87747397816424\n",
      "nachbiegigkeit_schraubenkopf = 3.789403406949889e-07\n",
      "nachb_g = 5.7935165762034e-07\n",
      "nachb_M = 3.0315227255599115e-07\n",
      "nachb_Gew = 2.02773080167119e-06\n",
      "\n",
      "\n",
      "\n",
      "Nachbiegigkeit der Schraube = 3.28917507254251e-06\n"
     ]
    }
   ],
   "source": [
    "A_N = (math.pi*d**2)/4 \n",
    "A_d3 = (math.pi*d3**2)/4\n",
    "print(f\"A_N = {A_N}\")\n",
    "print(f\"A_d3 = {A_d3}\")\n",
    "\n",
    "#Nachbiegigkeit_schraubenkopf\n",
    "nachb_sk = (0.5*d)/(E_stahl*A_N)\n",
    "print(f\"nachbiegigkeit_schraubenkopf = {nachb_sk}\")\n",
    "\n",
    "#Nachgiebigkeit des eingeschraubten Schraubengwindekerns\n",
    "nachb_g = (0.5*d)/(E_stahl*A_d3)\n",
    "print(f\"nachb_g = {nachb_g}\")\n",
    "\n",
    "#Nachgiebigkeit des Mutter- bzw. Einschraubgewindebereichs\n",
    "nachb_M = (0.4*d)/(E_stahl*A_N)\n",
    "print(f\"nachb_M = {nachb_M}\")\n",
    "\n",
    "#Nachgiebigkeit der Gewindes\n",
    "lgew = lk\n",
    "nachb_Gew = lgew/(E_stahl * A_d3)\n",
    "print(f\"nachb_Gew = {nachb_Gew}\")\n",
    "\n",
    "nachb_s = nachb_g + nachb_sk + nachb_M + nachb_Gew\n",
    "\n",
    "print(\"\\n\\n\")\n",
    "print(f\"Nachbiegigkeit der Schraube = {nachb_s}\")\n"
   ]
  },
  {
   "cell_type": "markdown",
   "id": "690f5f16",
   "metadata": {},
   "source": [
    "## Setzkraft"
   ]
  },
  {
   "cell_type": "code",
   "execution_count": 58,
   "id": "3969ac74",
   "metadata": {},
   "outputs": [],
   "source": [
    "fz = 3+(2*4.5) + (1*2.5)"
   ]
  },
  {
   "cell_type": "code",
   "execution_count": 59,
   "id": "28aa1c9c",
   "metadata": {},
   "outputs": [
    {
     "name": "stdout",
     "output_type": "stream",
     "text": [
      "Fz = 3703.055 N\n"
     ]
    }
   ],
   "source": [
    "Fz = (fz*10**-3)/(nachb_s + nachb_p)\n",
    "print(f\"Fz = {round(Fz,4)} N\")"
   ]
  },
  {
   "cell_type": "code",
   "execution_count": 60,
   "id": "13e03275",
   "metadata": {},
   "outputs": [
    {
     "name": "stdout",
     "output_type": "stream",
     "text": [
      "FMmin = 8374.9222 N\n"
     ]
    }
   ],
   "source": [
    "FMmin = Fz + F_kerf\n",
    "print(f\"FMmin = {round(FMmin,4)} N\")"
   ]
  },
  {
   "cell_type": "code",
   "execution_count": 61,
   "id": "0f3c3686",
   "metadata": {},
   "outputs": [
    {
     "name": "stdout",
     "output_type": "stream",
     "text": [
      "FMmax =11724.891 N\n"
     ]
    }
   ],
   "source": [
    "FMmax = alpha_A* FMmin\n",
    "print(f\"FMmax ={round(FMmax,4)} N\")"
   ]
  },
  {
   "cell_type": "code",
   "execution_count": 62,
   "id": "e8544e3f",
   "metadata": {},
   "outputs": [
    {
     "name": "stdout",
     "output_type": "stream",
     "text": [
      "Fv = 4671.867 N\n"
     ]
    }
   ],
   "source": [
    "Fv = FMmin - Fz \n",
    "print(f\"Fv = {round(Fv,3)} N\")"
   ]
  },
  {
   "cell_type": "code",
   "execution_count": 63,
   "id": "561a9843",
   "metadata": {},
   "outputs": [
    {
     "name": "stdout",
     "output_type": "stream",
     "text": [
      "d_o= 6.83\n",
      "A_o = 36.638 mm^2\n"
     ]
    }
   ],
   "source": [
    "d_o = (d2+d3)/2\n",
    "print(f\"d_o= {d_o}\")\n",
    "A_o = (math.pi/4)*(d_o**2)\n",
    "print(f\"A_o = {round(A_o,3)} mm^2\")"
   ]
  },
  {
   "cell_type": "code",
   "execution_count": 64,
   "id": "aca91c24",
   "metadata": {},
   "outputs": [
    {
     "name": "stdout",
     "output_type": "stream",
     "text": [
      "FMzul = 21103.465 N\n"
     ]
    }
   ],
   "source": [
    "v = 0.9\n",
    "FMzul = v*Rp02*A_o\n",
    "print(F\"FMzul = {round(FMzul,3)} N\")\n"
   ]
  },
  {
   "cell_type": "code",
   "execution_count": 65,
   "id": "ce014eae",
   "metadata": {},
   "outputs": [
    {
     "name": "stdout",
     "output_type": "stream",
     "text": [
      "Fsmax = 21103.465 N\n"
     ]
    }
   ],
   "source": [
    "Fsmax = FMzul + 0\n",
    "print(f\"Fsmax = {round(Fsmax,3)} N\")"
   ]
  },
  {
   "cell_type": "code",
   "execution_count": 66,
   "id": "49fd8a39",
   "metadata": {},
   "outputs": [
    {
     "name": "stdout",
     "output_type": "stream",
     "text": [
      "F_KRmin = 11370.849 N\n"
     ]
    }
   ],
   "source": [
    "F_KRmin = (FMzul/alpha_A)-Fz\n",
    "print(f\"F_KRmin = {round(F_KRmin,3)} N\")"
   ]
  },
  {
   "cell_type": "code",
   "execution_count": 67,
   "id": "81668da7",
   "metadata": {},
   "outputs": [
    {
     "name": "stdout",
     "output_type": "stream",
     "text": [
      "2.4338981011053837\n"
     ]
    }
   ],
   "source": [
    "S_G = F_KRmin/F_kerf\n",
    "print(S_G)"
   ]
  },
  {
   "cell_type": "code",
   "execution_count": 68,
   "id": "c215c272",
   "metadata": {},
   "outputs": [
    {
     "name": "stdout",
     "output_type": "stream",
     "text": [
      "42.61326961163903\n"
     ]
    }
   ],
   "source": [
    "A_pmin = (math.pi/4)*((dw**2)-(dh**2))\n",
    "print(A_pmin)"
   ]
  },
  {
   "cell_type": "code",
   "execution_count": 69,
   "id": "1fca867d",
   "metadata": {},
   "outputs": [],
   "source": [
    "pmax = FMzul/A_pmin"
   ]
  },
  {
   "cell_type": "code",
   "execution_count": 70,
   "id": "501869f6",
   "metadata": {},
   "outputs": [
    {
     "name": "stdout",
     "output_type": "stream",
     "text": [
      "1.0096273110881981\n"
     ]
    }
   ],
   "source": [
    "Skauf = pzul_skopf / pmax\n",
    "print(Skauf)"
   ]
  },
  {
   "cell_type": "markdown",
   "id": "1e21c5bd",
   "metadata": {},
   "source": [
    "# WN verbindung"
   ]
  },
  {
   "cell_type": "markdown",
   "id": "af1f8431",
   "metadata": {},
   "source": [
    "### Abtrieb WN"
   ]
  },
  {
   "cell_type": "code",
   "execution_count": 71,
   "id": "5cc20985",
   "metadata": {},
   "outputs": [
    {
     "name": "stdout",
     "output_type": "stream",
     "text": [
      "d = 22.5mm\n",
      "d2 = 22.5mm\n",
      "d3 = 24.75mm\n",
      "pzul=105.0N/mm^2\n",
      "28.967827244229344\n",
      "1.2874589886324153\n"
     ]
    }
   ],
   "source": [
    "#abtriebs Welle: DIN 5480-W25 x 1.25 x 18\n",
    "ltr = zahnwelle_lange(18,25,1.25,M_ab,1,0)\n",
    "print(ltr)\n",
    "print(ltr/22.5)"
   ]
  },
  {
   "cell_type": "markdown",
   "id": "20ddcb5f",
   "metadata": {},
   "source": [
    "### Schaltmuffe "
   ]
  },
  {
   "cell_type": "code",
   "execution_count": 72,
   "id": "074bf2e3",
   "metadata": {},
   "outputs": [
    {
     "name": "stdout",
     "output_type": "stream",
     "text": [
      "d = 110mm\n",
      "d2 = 110mm\n",
      "d3 = 119.0mm\n",
      "pzul=67.5N/mm^2\n",
      "0.9311404765696845\n",
      "0.008464913423360768\n"
     ]
    }
   ],
   "source": [
    "ltr = zahnwelle_lange(22,120,5,M_ab/i34,3,0)\n",
    "print(ltr)\n",
    "print(ltr/110)"
   ]
  },
  {
   "cell_type": "markdown",
   "id": "fc300020",
   "metadata": {},
   "source": [
    "### Keilwelle Zahnrad 3"
   ]
  },
  {
   "cell_type": "code",
   "execution_count": 73,
   "id": "f24be72c",
   "metadata": {},
   "outputs": [
    {
     "name": "stdout",
     "output_type": "stream",
     "text": [
      "ltr_min = 4.35mm\n",
      "0.07\n"
     ]
    }
   ],
   "source": [
    "d= 62\n",
    "D = 68\n",
    "k = 0.75\n",
    "i = 8\n",
    "po = 150\n",
    "pzul  = 0.7*po\n",
    "\n",
    "ltr = (T3*1000)/(((D+d)/4)*((D-d)/2)*pzul*i*k)\n",
    "print(f\"ltr_min = {round(ltr,2)}mm\")\n",
    "print(round(ltr/d,2))"
   ]
  },
  {
   "cell_type": "markdown",
   "id": "88717ccb",
   "metadata": {},
   "source": [
    "### Keilwelle Zahnrad 4"
   ]
  },
  {
   "cell_type": "code",
   "execution_count": 74,
   "id": "96640709",
   "metadata": {},
   "outputs": [
    {
     "name": "stdout",
     "output_type": "stream",
     "text": [
      "ltr_min = 10.5mm\n",
      "0.2\n"
     ]
    }
   ],
   "source": [
    "d= 52\n",
    "D = 58\n",
    "k = 0.75\n",
    "i = 8\n",
    "po = 150\n",
    "pzul  = 0.7*po\n",
    "\n",
    "ltr = (M_ab)/(((D+d)/4)*((D-d)/2)*pzul*i*k)\n",
    "print(f\"ltr_min = {round(ltr,2)}mm\")\n",
    "print(round(ltr/d,2))"
   ]
  },
  {
   "cell_type": "code",
   "execution_count": null,
   "id": "dcdb0aab",
   "metadata": {},
   "outputs": [],
   "source": []
  }
 ],
 "metadata": {
  "kernelspec": {
   "display_name": "Python 3",
   "language": "python",
   "name": "python3"
  },
  "language_info": {
   "codemirror_mode": {
    "name": "ipython",
    "version": 3
   },
   "file_extension": ".py",
   "mimetype": "text/x-python",
   "name": "python",
   "nbconvert_exporter": "python",
   "pygments_lexer": "ipython3",
   "version": "3.8.5"
  }
 },
 "nbformat": 4,
 "nbformat_minor": 5
}
