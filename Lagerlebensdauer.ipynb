{
 "cells": [
  {
   "cell_type": "code",
   "execution_count": 1,
   "metadata": {},
   "outputs": [],
   "source": [
    "import numpy as np\n",
    "import math \n",
    "import pandas as pd\n",
    "import re"
   ]
  },
  {
   "cell_type": "markdown",
   "metadata": {},
   "source": [
    "### Lagerdaten (Festlager)"
   ]
  },
  {
   "cell_type": "code",
   "execution_count": 2,
   "metadata": {},
   "outputs": [],
   "source": [
    "#Dynamische Tragzahl [N]\n",
    "Cr=32500\n",
    "#Statische Tragzahl [N]\n",
    "Cor=19000\n",
    "#Berechnungsfaktor\n",
    "fo=13.8\n",
    "\n",
    "#Hauptabmessungen\n",
    "\n",
    "#Breite[mm]\n",
    "B=13\n",
    "\n",
    "#Bohrungsdurchmesser[mm]\n",
    "d=30\n",
    "\n",
    "#Außendurchmesser[mm]\n",
    "D=55\n",
    "\n",
    "# Drehzahl [min^-1]\n",
    "n=350"
   ]
  },
  {
   "cell_type": "markdown",
   "metadata": {},
   "source": [
    "### Dynamische Äquivalente Lagerbelastung P "
   ]
  },
  {
   "cell_type": "code",
   "execution_count": 3,
   "metadata": {},
   "outputs": [
    {
     "name": "stdout",
     "output_type": "stream",
     "text": [
      "Die resultierende Radiallast ist: 3676.1140 N\n",
      "Die resultierende Axiallast ist: 0 N\n"
     ]
    }
   ],
   "source": [
    "#Resultierende Radiallast[N]\n",
    "\n",
    "FAy=330.80\n",
    "FAz=3661.20\n",
    "\n",
    "FR = math.sqrt((FAy)**2 + (FAz)**2)\n",
    "print(f'Die resultierende Radiallast ist: {FR:4.4f} N')\n",
    "\n",
    "#Axiallast[N]\n",
    "FA=0\n",
    "print(\"Die resultierende Axiallast ist:\",FA,\"N\")"
   ]
  },
  {
   "cell_type": "markdown",
   "metadata": {},
   "source": [
    "### Berechnungsfaktoren X, Y für Rillenkugellager für den Faktor CN"
   ]
  },
  {
   "cell_type": "code",
   "execution_count": 4,
   "metadata": {},
   "outputs": [
    {
     "data": {
      "text/html": [
       "<div>\n",
       "<style scoped>\n",
       "    .dataframe tbody tr th:only-of-type {\n",
       "        vertical-align: middle;\n",
       "    }\n",
       "\n",
       "    .dataframe tbody tr th {\n",
       "        vertical-align: top;\n",
       "    }\n",
       "\n",
       "    .dataframe thead th {\n",
       "        text-align: right;\n",
       "    }\n",
       "</style>\n",
       "<table border=\"1\" class=\"dataframe\">\n",
       "  <thead>\n",
       "    <tr style=\"text-align: right;\">\n",
       "      <th></th>\n",
       "      <th>Q</th>\n",
       "      <th>e</th>\n",
       "      <th>[X] fo*FA/Cor &lt;= e</th>\n",
       "      <th>[Y] fo*FA/Cor &lt;= e</th>\n",
       "      <th>[X] fo*FA/Cor &gt; e</th>\n",
       "      <th>[Y] fo*FA/Cor &gt; e</th>\n",
       "    </tr>\n",
       "  </thead>\n",
       "  <tbody>\n",
       "    <tr>\n",
       "      <th>0</th>\n",
       "      <td>0.3</td>\n",
       "      <td>0.22</td>\n",
       "      <td>1</td>\n",
       "      <td>0</td>\n",
       "      <td>0.56</td>\n",
       "      <td>2.00</td>\n",
       "    </tr>\n",
       "    <tr>\n",
       "      <th>1</th>\n",
       "      <td>0.5</td>\n",
       "      <td>0.24</td>\n",
       "      <td>1</td>\n",
       "      <td>0</td>\n",
       "      <td>0.56</td>\n",
       "      <td>1.80</td>\n",
       "    </tr>\n",
       "    <tr>\n",
       "      <th>2</th>\n",
       "      <td>0.9</td>\n",
       "      <td>0.28</td>\n",
       "      <td>1</td>\n",
       "      <td>0</td>\n",
       "      <td>0.56</td>\n",
       "      <td>1.58</td>\n",
       "    </tr>\n",
       "    <tr>\n",
       "      <th>3</th>\n",
       "      <td>1.6</td>\n",
       "      <td>0.32</td>\n",
       "      <td>1</td>\n",
       "      <td>0</td>\n",
       "      <td>0.56</td>\n",
       "      <td>1.40</td>\n",
       "    </tr>\n",
       "    <tr>\n",
       "      <th>4</th>\n",
       "      <td>3.0</td>\n",
       "      <td>0.36</td>\n",
       "      <td>1</td>\n",
       "      <td>0</td>\n",
       "      <td>0.56</td>\n",
       "      <td>1.20</td>\n",
       "    </tr>\n",
       "    <tr>\n",
       "      <th>5</th>\n",
       "      <td>6.0</td>\n",
       "      <td>0.43</td>\n",
       "      <td>1</td>\n",
       "      <td>0</td>\n",
       "      <td>0.56</td>\n",
       "      <td>1.00</td>\n",
       "    </tr>\n",
       "  </tbody>\n",
       "</table>\n",
       "</div>"
      ],
      "text/plain": [
       "     Q     e  [X] fo*FA/Cor <= e  [Y] fo*FA/Cor <= e  [X] fo*FA/Cor > e  \\\n",
       "0  0.3  0.22                   1                   0               0.56   \n",
       "1  0.5  0.24                   1                   0               0.56   \n",
       "2  0.9  0.28                   1                   0               0.56   \n",
       "3  1.6  0.32                   1                   0               0.56   \n",
       "4  3.0  0.36                   1                   0               0.56   \n",
       "5  6.0  0.43                   1                   0               0.56   \n",
       "\n",
       "   [Y] fo*FA/Cor > e  \n",
       "0               2.00  \n",
       "1               1.80  \n",
       "2               1.58  \n",
       "3               1.40  \n",
       "4               1.20  \n",
       "5               1.00  "
      ]
     },
     "metadata": {},
     "output_type": "display_data"
    }
   ],
   "source": [
    "d = {'Q': [0.3, 0.5, 0.9, 1.6, 3, 6], 'e': [0.22, 0.24, 0.28, 0.32, 0.36, 0.43], '[X] fo*FA/Cor <= e': [1, 1, 1, 1, 1,1],\n",
    "                  '[Y] fo*FA/Cor <= e': [0, 0, 0, 0, 0,0], '[X] fo*FA/Cor > e': [0.56, 0.56, 0.56, 0.56, 0.56,0.56], '[Y] fo*FA/Cor > e': [2, 1.8, 1.58, 1.4, 1.2,1] }\n",
    "\n",
    "df = pd.DataFrame(data=d)\n",
    "# df.set_index('fo*FA/Cor', inplace = True)\n",
    "\n",
    "display(df)"
   ]
  },
  {
   "cell_type": "code",
   "execution_count": 7,
   "metadata": {},
   "outputs": [
    {
     "name": "stdout",
     "output_type": "stream",
     "text": [
      "Der Faktor FA/FR ist 0.0000\n"
     ]
    },
    {
     "ename": "NameError",
     "evalue": "name 'e' is not defined",
     "output_type": "error",
     "traceback": [
      "\u001b[1;31m---------------------------------------------------------------------------\u001b[0m",
      "\u001b[1;31mNameError\u001b[0m                                 Traceback (most recent call last)",
      "\u001b[1;32m<ipython-input-7-fc4209d3c0dc>\u001b[0m in \u001b[0;36m<module>\u001b[1;34m\u001b[0m\n\u001b[0;32m     22\u001b[0m         \u001b[0my\u001b[0m\u001b[1;33m=\u001b[0m\u001b[1;33m(\u001b[0m\u001b[1;33m(\u001b[0m\u001b[0mfaktoren_y\u001b[0m\u001b[1;33m[\u001b[0m\u001b[0mi\u001b[0m\u001b[1;33m+\u001b[0m\u001b[1;36m1\u001b[0m\u001b[1;33m]\u001b[0m\u001b[1;33m-\u001b[0m\u001b[0mfaktoren_y\u001b[0m\u001b[1;33m[\u001b[0m\u001b[0mi\u001b[0m\u001b[1;33m]\u001b[0m\u001b[1;33m)\u001b[0m\u001b[1;33m/\u001b[0m\u001b[1;33m(\u001b[0m\u001b[0mfaktoren_Q\u001b[0m\u001b[1;33m[\u001b[0m\u001b[0mi\u001b[0m\u001b[1;33m+\u001b[0m\u001b[1;36m1\u001b[0m\u001b[1;33m]\u001b[0m\u001b[1;33m-\u001b[0m\u001b[0mfaktoren_Q\u001b[0m\u001b[1;33m[\u001b[0m\u001b[0mi\u001b[0m\u001b[1;33m]\u001b[0m\u001b[1;33m)\u001b[0m\u001b[1;33m)\u001b[0m\u001b[1;33m*\u001b[0m\u001b[1;33m(\u001b[0m\u001b[0mQ\u001b[0m\u001b[1;33m-\u001b[0m\u001b[0mfaktoren_Q\u001b[0m\u001b[1;33m[\u001b[0m\u001b[0mi\u001b[0m\u001b[1;33m]\u001b[0m\u001b[1;33m)\u001b[0m\u001b[1;33m+\u001b[0m\u001b[0mfaktoren_y\u001b[0m\u001b[1;33m[\u001b[0m\u001b[0mi\u001b[0m\u001b[1;33m]\u001b[0m\u001b[1;33m\u001b[0m\u001b[1;33m\u001b[0m\u001b[0m\n\u001b[0;32m     23\u001b[0m \u001b[1;33m\u001b[0m\u001b[0m\n\u001b[1;32m---> 24\u001b[1;33m     \u001b[0mprint\u001b[0m\u001b[1;33m(\u001b[0m\u001b[1;34mf'Der Wert von e (interpoliert) ist: {e:4.4f}'\u001b[0m\u001b[1;33m)\u001b[0m\u001b[1;33m\u001b[0m\u001b[1;33m\u001b[0m\u001b[0m\n\u001b[0m\u001b[0;32m     25\u001b[0m     \u001b[0mprint\u001b[0m\u001b[1;33m(\u001b[0m\u001b[1;34mf'Der Wert von y (interpoliert) ist: {y:4.4f}'\u001b[0m\u001b[1;33m)\u001b[0m\u001b[1;33m\u001b[0m\u001b[1;33m\u001b[0m\u001b[0m\n\u001b[0;32m     26\u001b[0m \u001b[1;33m\u001b[0m\u001b[0m\n",
      "\u001b[1;31mNameError\u001b[0m: name 'e' is not defined"
     ]
    }
   ],
   "source": [
    "#Berechnung vom Faktor FA/FR\n",
    "faktor_FA_FR= FA/FR\n",
    "print(f'Der Faktor FA/FR ist {faktor_FA_FR:4.4f}')\n",
    "\n",
    "#Berechnung des Quotienten [Q]\n",
    "Q = (fo*FA)/Cor\n",
    "\n",
    "#Interpolation und Auswahl von e(Q)\n",
    "\n",
    "faktoren_Q = df['Q'].to_numpy()\n",
    "faktoren_e = df['e'].to_numpy()\n",
    "faktoren_y = df['[Y] fo*FA/Cor > e'].to_numpy()\n",
    "# print(faktoren_Q)\n",
    "\n",
    "for i in range(len(faktoren_Q)):\n",
    "    if faktoren_Q[i] == Q:\n",
    "        e=Q\n",
    "        y=faktoren_y[i]\n",
    "        break\n",
    "    elif faktoren_Q[i]< Q and Q < faktoren_Q[i+1]:\n",
    "        e=((faktoren_e[i+1]-faktoren_e[i])/(faktoren_Q[i+1]-faktoren_Q[i]))*(Q-faktoren_Q[i])+faktoren_e[i]\n",
    "        y=((faktoren_y[i+1]-faktoren_y[i])/(faktoren_Q[i+1]-faktoren_Q[i]))*(Q-faktoren_Q[i])+faktoren_y[i]\n",
    "        \n",
    "    print(f'Der Wert von e (interpoliert) ist: {e:4.4f}')\n",
    "    print(f'Der Wert von y (interpoliert) ist: {y:4.4f}')\n",
    "\n",
    "#Fallunterscheidung für die Berechnung von P\n",
    "\n",
    "x= 0.56 #Konstant\n",
    "if faktor_FA_FR > e:\n",
    "    #Überprüfung mit den Nachkommastellen\n",
    "    y=float('%.3f' % (y))\n",
    "    FR=float('%.3f' % (FR))\n",
    "    FA=float('%.3f' % (FA))\n",
    "    \n",
    "    #Lagerbelastung\n",
    "    P= x*FR + y*FA\n",
    "    print(f'Der Wert der äquivalenten Lagerbelastung ist: {P:4.4f} N')\n",
    "else:\n",
    "    #Lagerbelastung\n",
    "    P=FR\n",
    "    print(f'Der Wert der äquivalenten Lagerbelastung ist: {P:4.4f} N')"
   ]
  },
  {
   "cell_type": "markdown",
   "metadata": {},
   "source": [
    "### Nominelle Lagerlebensdauer in Stunden"
   ]
  },
  {
   "cell_type": "code",
   "execution_count": null,
   "metadata": {},
   "outputs": [],
   "source": [
    "# P=float('%.3f' % (P))\n",
    "L10h= (10**6/(60*n))*((Cr/P)**3)\n",
    "print(f'Der nominelle Lagerlebensdauer in Stunden ist:{L10h:4.4f}h')"
   ]
  },
  {
   "cell_type": "markdown",
   "metadata": {},
   "source": [
    "### Nominelle Lagerlebensdauer in Umdrehungen"
   ]
  },
  {
   "cell_type": "code",
   "execution_count": null,
   "metadata": {},
   "outputs": [],
   "source": [
    "L10=(Cr/P)**3\n",
    "print(f'Der nominelle Lagerlebensdauer in Umdrehungen ist: {L10:4.4f} * 10^6 Umdrehungen')"
   ]
  },
  {
   "cell_type": "markdown",
   "metadata": {},
   "source": [
    "### Erweiterte Lagerlebensdauer"
   ]
  },
  {
   "cell_type": "code",
   "execution_count": null,
   "metadata": {},
   "outputs": [],
   "source": [
    "a1=1\n",
    "a_iso=1\n",
    "Lna_u=a1*a_iso*L10\n",
    "Lna_h=a1*a_iso*L10h\n",
    "print(f'Die erweiterte modfizierte Lagerlebensdauer in Umdrehungen ist: {Lna_u:4.4f} * 10^6 Umdrehungen')\n",
    "print(f'Der nominelle Lagerlebensdauer in Stunden ist:{Lna_h:4.4f} h')"
   ]
  }
 ],
 "metadata": {
  "kernelspec": {
   "display_name": "Python 3",
   "language": "python",
   "name": "python3"
  },
  "language_info": {
   "codemirror_mode": {
    "name": "ipython",
    "version": 3
   },
   "file_extension": ".py",
   "mimetype": "text/x-python",
   "name": "python",
   "nbconvert_exporter": "python",
   "pygments_lexer": "ipython3",
   "version": "3.8.5"
  }
 },
 "nbformat": 4,
 "nbformat_minor": 4
}
