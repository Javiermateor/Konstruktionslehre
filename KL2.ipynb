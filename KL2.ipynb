{
 "cells": [
  {
   "cell_type": "code",
   "execution_count": 1,
   "metadata": {},
   "outputs": [],
   "source": [
    "import math\n",
    "import numpy as np\n",
    "import pandas as pd\n",
    "import matplotlib.pyplot as plt\n",
    "from matplotlib.figure import Figure as fig\n",
    "from IPython.display import Image"
   ]
  },
  {
   "cell_type": "markdown",
   "metadata": {},
   "source": [
    "## Funktionen"
   ]
  },
  {
   "cell_type": "code",
   "execution_count": 2,
   "metadata": {},
   "outputs": [],
   "source": [
    "#Lagerlebensdauer\n",
    "\n",
    "def lebensdauer(Cr, Cor, fo, n1, FA, FAy, FAz):\n",
    "    \n",
    "    #Resultierende Radiallast[N]\n",
    "    FR = math.sqrt((FAy)**2 + (FAz)**2)\n",
    "    print(f'Die resultierende Radiallast ist: {FR:4.4f} N')\n",
    "    \n",
    "    #Axiallast[N]\n",
    "    print(\"Die resultierende Axiallast ist:\",FA,\"N\")\n",
    "    \n",
    "    #Berechnungsfaktoren X, Y für Rillenkugellager für den Faktor CN \n",
    "    \n",
    "    d = {'Q': [0.3, 0.5, 0.9, 1.6, 3, 6], \"e\": [0.22, 0.24, 0.28, 0.32, 0.36, 0.43], '[X] fo*FA/Cor <= e': [1, 1, 1, 1, 1,1],\n",
    "              '[Y] fo*FA/Cor <= e': [0, 0, 0, 0, 0,0], '[X] fo*FA/Cor > e': [0.56, 0.56, 0.56, 0.56, 0.56,0.56], '[Y] fo*FA/Cor > e': \n",
    "               [2, 1.8, 1.58, 1.4, 1.2,1] }\n",
    "    \n",
    "    df = pd.DataFrame(data=d)\n",
    "    \n",
    "    #Berechnung vom Faktor FA/FR\n",
    "    faktor_FA_FR= FA/FR\n",
    "    print(f'Der Faktor FA/FR ist {faktor_FA_FR:4.4f}')\n",
    "\n",
    "    #Berechnung des Quotienten [Q]\n",
    "    Q = (fo*FA)/Cor\n",
    "    \n",
    "    print(f\" fo*FA/Cro = {Q}\")\n",
    "    \n",
    "    #Interpolation und Auswahl von e(Q)\n",
    "    faktoren_Q = df[\"Q\"].to_numpy()\n",
    "    faktoren_e = df[\"e\"].to_numpy()\n",
    "    faktoren_y = df[\"[Y] fo*FA/Cor > e\"].to_numpy()\n",
    "    # print(faktoren_Q)\n",
    "    \n",
    "    e=0\n",
    "    y=0\n",
    "    \n",
    "    for i in range(len(faktoren_Q)):\n",
    "        if faktoren_Q[i] == Q:\n",
    "            e=Q\n",
    "            y=faktoren_y[i]\n",
    "            break\n",
    "        elif faktoren_Q[i]< Q and Q < faktoren_Q[i+1]:\n",
    "            e=((faktoren_e[i+1]-faktoren_e[i])/(faktoren_Q[i+1]-faktoren_Q[i]))*(Q-faktoren_Q[i])+faktoren_e[i]\n",
    "            y=((faktoren_y[i+1]-faktoren_y[i])/(faktoren_Q[i+1]-faktoren_Q[i]))*(Q-faktoren_Q[i])+faktoren_y[i]\n",
    "        \n",
    "    \n",
    "    print(f'Der Wert von e (interpoliert) ist: {e:4.4f}')\n",
    "    print(f'Der Wert von y (interpoliert) ist: {y:4.4f}')\n",
    "    \n",
    "    #Fallunterscheidung für die Berechnung von P\n",
    "    x= 0.56 #Konstant\n",
    "    \n",
    "    if faktor_FA_FR > e:\n",
    "        #Überprüfung mit den Nachkommastellen\n",
    "        y=float('%.3f' % (y))\n",
    "        FR=float('%.3f' % (FR))\n",
    "        FA=float('%.3f' % (FA))\n",
    "        \n",
    "        #Lagerbelastung\n",
    "        P= x*FR + y*FA\n",
    "        print(\"P= x*FR + y*FA\")\n",
    "        print(f'Der Wert der äquivalenten Lagerbelastung ist: {P:4.4f} N')\n",
    "    else:\n",
    "        #Lagerbelastung\n",
    "        print(\"P=FR\")\n",
    "        P=FR\n",
    "        print(f'Der Wert der äquivalenten Lagerbelastung ist: {P:4.4f} N')\n",
    "    \n",
    "    #Nominelle Lagerlebensdauer in Stunden \n",
    "        \n",
    "    L10h= (10**6/(60*n1))*((Cr/P)**3)\n",
    "    print(f'\\nDer nominelle Lagerlebensdauer in Stunden ist:{L10h:4.4f}h')\n",
    "    \n",
    "    #Nominelle Lagerlebensdauer in Umdrehungen\n",
    "    L10=(Cr/P)**3\n",
    "    print(f'Der nominelle Lagerlebensdauer in Umdrehungen ist: {L10:4.4f} * 10^6 Umdrehungen')\n",
    "    \n",
    "    #Erweiterte Lagerlebensdauer\n",
    "    #DIN 281\n",
    "    a_iso=1\n",
    "    a1=0.25\n",
    "    #Drehzahlen\n",
    "    n2= 350 #(1/min... muss unabhängig sein)\n",
    "    \n",
    "    #mittlere Drehzahl\n",
    "    n_aquivalent=0.6*n1+0.4*n2 #Zeitanteile berücksichtigen \n",
    "    print(f'\\nn_äquivalent: {n_aquivalent:4.4f} 1/min')\n",
    "    \n",
    "    #Äquivalente Lagerbelastung\n",
    "    p=3 #Faktor für Rillenkugellager\n",
    "    p_aquivalent=(((P**p)*n1*0.6)/n_aquivalent)**(1/p)\n",
    "    print(f'p_äquivalent: {p_aquivalent:4.4f} N')\n",
    "    \n",
    "    #Nominelle Lagerlebensdauer \n",
    "    L10hm= (10**6/(60*n_aquivalent))*((Cr/p_aquivalent)**3)\n",
    "    \n",
    "    #Erweiterte Lagerlebensdauer\n",
    "    L1mh=a_iso*a1*L10hm\n",
    "    \n",
    "    \n",
    "    print(f'Die modifizierte Lagerlebensdauer ist: {L1mh:4.4f} Stunden')"
   ]
  },
  {
   "cell_type": "markdown",
   "metadata": {},
   "source": [
    "## Radgetriebe"
   ]
  },
  {
   "cell_type": "code",
   "execution_count": 45,
   "metadata": {},
   "outputs": [
    {
     "name": "stdout",
     "output_type": "stream",
     "text": [
      "Teilkreisdurchmesser [m]:\n",
      "[0.09405533 0.19220003 0.09405533 0.19220003]\n",
      "\n",
      "Kopfkreisdurchmesser [m]\n",
      "[0.10205533 0.20020003 0.10205533 0.20020003]\n",
      "\n",
      "Fußkreisdurchmesser [m]\n",
      "[0.08405533 0.18220003 0.08405533 0.18220003]\n"
     ]
    }
   ],
   "source": [
    "z_liste=[23,47,23,47]\n",
    "d_liste=[]\n",
    "da_liste=[]\n",
    "df_liste=[]\n",
    "mn=0.004\n",
    "beta=(12*math.pi)/180\n",
    "alpha_n=(20*math.pi)/180\n",
    "\n",
    "for i in range(len(z_liste)):\n",
    "    #Teilkreisdurchmesser \n",
    "    d=(z_liste[i]*mn)/math.cos(beta)\n",
    "    d_liste.append(d)\n",
    "    \n",
    "    #Kopfkreisdurchmesser\n",
    "    da1=d+2*mn\n",
    "    da_liste.append(da1)\n",
    "    \n",
    "    #Fußkreisdurchmesser \n",
    "    df= d-2.5*mn\n",
    "    df_liste.append(df)\n",
    "\n",
    "\n",
    "d=np.array(d_liste)\n",
    "da=np.array(da_liste)\n",
    "df=np.array(df_liste)\n",
    "    \n",
    "print(\"Teilkreisdurchmesser [m]:\")\n",
    "print(d)\n",
    "\n",
    "print(\"\\nKopfkreisdurchmesser [m]\")\n",
    "print(da)\n",
    "\n",
    "print(\"\\nFußkreisdurchmesser [m]\")\n",
    "print(df)\n",
    "\n",
    "d1=d_liste[0]\n",
    "d3=d1\n",
    "d2=d_liste[1]\n",
    "d4=d2\n",
    "\n"
   ]
  },
  {
   "cell_type": "markdown",
   "metadata": {},
   "source": [
    "## Zahnkräfte"
   ]
  },
  {
   "cell_type": "code",
   "execution_count": 46,
   "metadata": {},
   "outputs": [
    {
     "name": "stdout",
     "output_type": "stream",
     "text": [
      "[130.81228199333864, 267.17199145144014, 267.17199145144014, 545.6740906007842]\n",
      "Zahnradkräfte 1[N]:\n",
      "Ft1= 2781.602603876048 N\n",
      "Fa1= 591.2478854122733 N\n",
      "Fr1= 1035.038628739391 N\n",
      "\n",
      "Zahnradkräfte 2[N]:\n",
      "Ft2= 2780.1451321436066 N\n",
      "Fa2= 590.9380902320943 N\n",
      "Fr2= 1034.496301254771 N\n",
      "\n",
      "Zahnradkräfte 3[N]:\n",
      "Ft3= 5681.166139597804 N\n",
      "Fa3= 1207.569140909062 N\n",
      "Fr3= 2113.9707025640973 N\n",
      "\n",
      "Zahnradkräfte 4[N]:\n",
      "Ft4= 5678.189388337855 N\n",
      "Fa4= 1206.9364128963005 N\n",
      "Fr4= 2112.8630488187696 N\n",
      "\n"
     ]
    }
   ],
   "source": [
    "#Daten\n",
    "#Antriebsmoment\n",
    "Pan=20000\n",
    "#Antriebsdrehzahl Gang 1\n",
    "nan1=1460\n",
    "#Abtriebsdrehzahl Gang 1\n",
    "nab1=350\n",
    "\n",
    "#Übersetzungen\n",
    "iges=nan1/nab1\n",
    "i_12=math.sqrt(iges)\n",
    "\n",
    "#Momente und Übersetzungen\n",
    "T1=Pan/(2*math.pi*(nan1/60))\n",
    "M_an=T1\n",
    "T2=i_12*T1\n",
    "T3=T2\n",
    "T4=T3*i_12\n",
    "\n",
    "T_liste=[T1,T2,T3,T4]\n",
    "print(T_liste)\n",
    "Ft_liste=[]\n",
    "Fa_liste=[]\n",
    "Fr_liste=[]\n",
    "\n",
    "for j in range(len(T_liste)):\n",
    "    \n",
    "    #Tangentialkraft\n",
    "    Ft=2*T_liste[j]/d_liste[j]\n",
    "    Ft_liste.append(Ft)\n",
    "    \n",
    "    #Axialkraft\n",
    "    Fa=Ft*math.tan(beta)\n",
    "    Fa_liste.append(Fa)\n",
    "    \n",
    "    #Radialkraft\n",
    "    Fr=(Ft*math.tan(alpha_n))/math.cos(beta)\n",
    "    Fr_liste.append(Fr)\n",
    "\n",
    "    \n",
    "for i in range(len(T_liste)):\n",
    "    print(f\"Zahnradkräfte {i+1}[N]:\")\n",
    "    print(f\"Ft{i+1}= {Ft_liste[i]} N\")\n",
    "    print(f\"Fa{i+1}= {Fa_liste[i]} N\")\n",
    "    print(f\"Fr{i+1}= {Fr_liste[i]} N\\n\")\n",
    "    \n",
    "Ft1=Ft_liste[0]\n",
    "Ft2=Ft1\n",
    "\n",
    "Fa1=Fa_liste[0]\n",
    "Fa2=Fa1\n",
    "\n",
    "Fr1=Fr_liste[0]\n",
    "Fr2=Fr1\n",
    "\n",
    "Ft3=Ft_liste[2]\n",
    "Ft4=Ft3\n",
    "\n",
    "Fa3=Fa_liste[2]\n",
    "Fa4=Fa3\n",
    "\n",
    "Fr3=Fr_liste[2]\n",
    "Fr4=Fr3\n",
    "\n",
    "\n",
    "# print(Ft1,Fa1,Fr1,Ft3,Fa3,Fr3)"
   ]
  },
  {
   "cell_type": "markdown",
   "metadata": {},
   "source": [
    "## Überschlägige Durchmesser"
   ]
  },
  {
   "cell_type": "code",
   "execution_count": 47,
   "metadata": {},
   "outputs": [
    {
     "name": "stdout",
     "output_type": "stream",
     "text": [
      "Torsionsmomente [Nmm]\n",
      "[130.81228199333864, 267.17199145144014, 267.17199145144014, 545.6740906007842]\n",
      "\n",
      "Statische Torsionsmomente für jedes Zahnrad [N]\n",
      "[91.56859739533705, 187.02039401600808, 187.02039401600808, 381.9718634205489]\n",
      "\n",
      " An- und Abtriebsmomente [Nm]\n",
      "91.567 381.97186342054874\n",
      "\n",
      "Überschlägige Durchmesser\n",
      " Welle 1: 19.989642917645813 mm\n",
      " Welle 2: 25.362136647289706 mm\n",
      " Welle 3: 32.17856256691701 mm\n"
     ]
    }
   ],
   "source": [
    "# Nenn-Umfangskraft\n",
    "print(\"Torsionsmomente [Nmm]\")\n",
    "print(T_liste)\n",
    "\n",
    "#Statische Torsionsmomente\n",
    "Tn_liste=[]\n",
    "for u in range(len(Ft_liste)):\n",
    "    T=(d_liste[u]/2)*Ft_liste[u]*0.7\n",
    "    Tn_liste.append(T)\n",
    "\n",
    "print(\"\\nStatische Torsionsmomente für jedes Zahnrad [N]\")\n",
    "print(Tn_liste)\n",
    "\n",
    "# An- Abtriebsmomente\n",
    "Pab= 20e3\n",
    "nab=350\n",
    "Tan=130.81*0.7\n",
    "Tab=Pab/(2*math.pi*(nab/60))*0.7\n",
    "print(\"\\n An- und Abtriebsmomente [Nm]\")\n",
    "print(Tan,Tab)\n",
    "\n",
    "#Zulässige Schubspannung\n",
    "delta_w=350\n",
    "t_zul=delta_w/6\n",
    "# Welle 1 \n",
    "du1=1.72*((Tn_liste[0]*1000/t_zul)**(1/3))\n",
    "du2=1.72*((Tn_liste[1]*1000/t_zul)**(1/3))\n",
    "du3=1.72*((Tn_liste[3]*1000/t_zul)**(1/3))\n",
    "\n",
    "print('\\nÜberschlägige Durchmesser')\n",
    "print(f' Welle 1: {du1} mm')\n",
    "print(f' Welle 2: {du2} mm')\n",
    "print(f' Welle 3: {du3} mm')\n"
   ]
  },
  {
   "cell_type": "code",
   "execution_count": 48,
   "metadata": {},
   "outputs": [],
   "source": [
    "#Längenangaben (mm)\n",
    "\n",
    "lan1=85\n",
    "lan2=105\n",
    "lzw1=47.5\n",
    "lzw2=122.1\n",
    "lzw3=166.7\n",
    "lab1=69.85\n",
    "lab2=130.85"
   ]
  },
  {
   "cell_type": "code",
   "execution_count": null,
   "metadata": {},
   "outputs": [],
   "source": []
  },
  {
   "attachments": {},
   "cell_type": "markdown",
   "metadata": {},
   "source": [
    "### Berechnung der Lagekräfte"
   ]
  },
  {
   "cell_type": "code",
   "execution_count": null,
   "metadata": {},
   "outputs": [
    {
     "name": "stdout",
     "output_type": "stream",
     "text": [
      "Ay: -60.37387554477709 N\n",
      "Az: 31.32741343112224 N\n",
      "By: -1073.2875976255914 N\n",
      "Bz: -164.4689205133904 N\n",
      "Cx: 616.3212554967888 N\n",
      "Cy: 624.1848038599073 N\n",
      "Cz: 469.0283176722428 N\n",
      "Dy: 2524.8245274435812 N\n",
      "Dz: -3368.5918533939994 N\n",
      "Ey: -98.62284443097747 N\n",
      "Ez: 2648.4610967937797 N\n",
      "Fx: -1207.569140909062 N\n",
      "Fy: -2015.3478581331199 N\n",
      "Fz: 3032.7050428040247 N\n"
     ]
    }
   ],
   "source": [
    "### Mit Hilfe der linearen Algebra kann das Gleichungssystem wie folgt geschrieben werden: A*X = B, \n",
    "\n",
    "#A steht für die Faktoren\n",
    "#X steht für alle Lagerkräfte\n",
    "#B steht für die Lösungen\n",
    "\n",
    "A=np.array([[1,0,1,0,0,0,0,0,0,-1,0,0,0,0],\n",
    "            [0,1,0,1,0,0,0,0,0,0,-1,0,0,0],\n",
    "            [0,0,0,lan1/1000,0,0,0,0,0,0,-lan2/1000,0,0,0],\n",
    "            [0,0,-lan1/1000,0,0,0,0,0,0,lan2/1000,0,0,0,0],\n",
    "            [0,0,0,0,1,0,0,0,0,0,0,0,0,0],\n",
    "            [0,0,0,0,0,1,0,1,0,0,0,0,0,0],\n",
    "            [0,0,0,0,0,0,1,0,1,0,0,0,0,0],\n",
    "            [0,0,0,0,0,0,0,0,lzw3/1000,0,0,0,0,0],\n",
    "            [0,0,0,0,0,0,0,-lzw3/1000,0,0,0,0,0,0],\n",
    "            [0,0,0,0,0,0,0,0,0,0,0,1,0,0],\n",
    "            [0,0,0,0,0,0,0,0,0,1,0,0,1,0],\n",
    "            [0,0,0,0,0,0,0,0,0,0,1,0,0,1],\n",
    "            [0,0,0,0,0,0,0,0,0,0,0,0,0,lab2/1000],\n",
    "            [0,0,0,0,0,0,0,0,0,0,0,0,-lab2/1000,0]])\n",
    "\n",
    "B=np.array([-Fr1,\n",
    "            -Ft1,\n",
    "            -Ft1*lan2/1000,\n",
    "            Fr1*lan2/1000-Fa1*(d1/2),\n",
    "            Fa3-Fa2,\n",
    "            Fr2+Fr3,\n",
    "            Ft2-Ft3,\n",
    "            Ft2*lzw1/1000-Ft3*lzw2/1000,\n",
    "            -Fr2*lzw1/1000-Fa2*(d2/2)-Fr3*lzw2/1000-Fa3*(d3/2),\n",
    "            -Fa4,\n",
    "            -Fr4,\n",
    "            Ft4,\n",
    "            Ft4*lab1/1000,\n",
    "            Fr4*lab1/1000+(d4/2)*Fa4])\n",
    "\n",
    "\n",
    "X=np.linalg.solve(A,B)\n",
    "Ay = X[0]\n",
    "Az = X[1] \n",
    "By = X[2]\n",
    "Bz = X[3]\n",
    "Cx = X[4]\n",
    "Cy = X[5]\n",
    "Cz = X[6]\n",
    "Dy = X[7]\n",
    "Dz = X[8]\n",
    "Ey = X[9]\n",
    "Ez = X[10]\n",
    "Fx = X[11]\n",
    "Fy = X[12]\n",
    "Fz = X[13]\n",
    "\n",
    "LR={\"Ay\":Ay, \"Az\":Az, \"By\":By,\"Bz\":Bz, \"Cx\":Cx, \"Cy\":Cy, \"Cz\":Cz,\n",
    "    \"Dy\":Dy, \"Dz\":Dz, \"Ey\":Ey, \"Ez\":Ez, \"Fx\":Fx,\"Fy\":Fy, \"Fz\":Fz}\n",
    "LR_keys=list(LR.keys())\n",
    "LR_values=list(LR.values())\n",
    "\n",
    "for i in range(len(LR)):\n",
    "    print(f'{LR_keys[i]}: {LR_values[i]} N')"
   ]
  },
  {
   "cell_type": "markdown",
   "metadata": {},
   "source": [
    "#### Resultierende Axialkräfte "
   ]
  },
  {
   "cell_type": "code",
   "execution_count": 50,
   "metadata": {},
   "outputs": [
    {
     "name": "stdout",
     "output_type": "stream",
     "text": [
      "Ka: 591.2478854122733 N\n",
      "\n",
      "3. Fall\n",
      "\n",
      "Resultierende Axialkräfte\n",
      "\n",
      "Lager Bx: 952.4701379438555 N\n",
      "Lager Ax: 361.2222525315823 N\n",
      "0.0\n"
     ]
    }
   ],
   "source": [
    "#Radialkräfte der Lager [N]\n",
    "Fra=math.sqrt(By**2+Bz**2)\n",
    "Frb=math.sqrt(Ay**2+Az**2)\n",
    "Ka=Fa1\n",
    "Ya=0.57\n",
    "Yb=Ya\n",
    "\n",
    "print(f'Ka: {Fa1} N')\n",
    "\n",
    "# #Belastungsverhältnisse\n",
    "\n",
    "# print(f'\\nFra: {Fra} N')\n",
    "# print(f'\\nFrb: {Frb} N')\n",
    "# print(f'\\nFra/Ya: {Fra/Ya} N')\n",
    "# print(f'\\nFrb/Yb: {Frb/Yb} N')\n",
    "# print(0.5*(Fra/Ya-Frb/Yb))\n",
    "\n",
    "if Fra/Ya <= Frb/Yb and Ka >= 0:\n",
    "    Bx=Ka + 0.5*Frb/Yb\n",
    "    Ax=0.5*Frb/Yb\n",
    "    print('\\n1.Fall')\n",
    "elif Fra/Ya > Frb/Yb and Ka > 0.5*(Fra/Ya-Frb/Yb):\n",
    "    Bx=Ka + 0.5*Frb/Yb\n",
    "    Ax=0.5*Frb/Yb\n",
    "    print('\\n2. Fall')\n",
    "elif Fra/Ya > Frb/Yb and Ka <= 0.5*(Fra/Ya-Frb/Yb):\n",
    "    Bx=0.5*Fra/Ya\n",
    "    Ax=0.5*Fra/Ya-Ka\n",
    "    print('\\n3. Fall')\n",
    "    \n",
    "print('\\nResultierende Axialkräfte')\n",
    "print(f'\\nLager Bx: {Bx} N')\n",
    "print(f'Lager Ax: {Ax} N')\n",
    "print(Bx-Ax-Ka)"
   ]
  },
  {
   "cell_type": "markdown",
   "metadata": {},
   "source": [
    "## Lagerlebensdauer "
   ]
  },
  {
   "cell_type": "code",
   "execution_count": 51,
   "metadata": {},
   "outputs": [],
   "source": [
    "#Lagerlebensdauer für O-lagerung\n",
    "def o_lager(FA, FR,Cr,e=1.14):\n",
    "    #Berechnung vom Faktor FA/FR\n",
    "    faktor_FA_FR= FA/FR\n",
    "    print(f'\\nDer Faktor FA/FR ist {faktor_FA_FR:4.4f}')\n",
    "    print(f'Der Faktor FA ist {FA:4.4f}')\n",
    "    print(f'Der Faktor FR ist {FR:4.4f}')\n",
    "    \n",
    "    #Fallunterscheidung für die Berechnung von P\n",
    "    if faktor_FA_FR > e:\n",
    "        #Überprüfung mit den Nachkommastellen\n",
    "        x=0.35\n",
    "        y=0.57\n",
    "        \n",
    "        #Lagerbelastung\n",
    "        Pr= x*FR + y*FA\n",
    "        print(f'Der Wert der äquivalenten Lagerbelastung der O-Lagerung ist: {Pr:4.4f} N')\n",
    "        \n",
    "    else:\n",
    "        #Lagerbelastung\n",
    "        Pr=FR\n",
    "        print(f'Der Wert der äquivalenten Lagerbelastung der O-Lagerung ist: {Pr:4.4f} N')\n",
    "        \n",
    "    \n",
    "   #Erweiterte Lagerlebensdauer\n",
    "   \n",
    "    #DIN 281\n",
    "    a_iso=1\n",
    "    a1=0.25\n",
    "    #Drehzahlen\n",
    "    n1=1460 #(1/min)\n",
    "    n2= 0 #(1/min... muss unabhängig sein)\n",
    "    \n",
    "    #mittlere Drehzahl\n",
    "    n_aquivalent=0.6*n1+0.4*n2 #Zeitanteile berücksichtigen \n",
    "    print(f'\\nn_äquivalent: {n_aquivalent} 1/min')\n",
    "    \n",
    "    #Äquivalente Lagerbelastung\n",
    "    p=3 #Faktor für Rillenkugellager\n",
    "    p_aquivalent=(((Pr**p)*n1*0.6)/n_aquivalent)**(1/p)\n",
    "    print(f'p_äquivalent: {p_aquivalent:4.4f} N')\n",
    "    \n",
    "    L10=(Cr/p_aquivalent)**3\n",
    "    \n",
    "    #Nominelle Lagerlebensdauer \n",
    "    L10hm= ((10e6/60)/n_aquivalent)*L10\n",
    "    \n",
    "    print(f'Die nominelle Lagerlebensdauer ist: {L10hm} Stunden')\n",
    "    \n",
    "    #Erweiterte Lagerlebensdauer\n",
    "    L1mh=a_iso*a1*L10hm\n",
    "    \n",
    "    \n",
    "    print(f'Die modifizierte Lagerlebensdauer ist: {L1mh:4.4f} Stunden')"
   ]
  },
  {
   "cell_type": "code",
   "execution_count": 52,
   "metadata": {},
   "outputs": [
    {
     "name": "stdout",
     "output_type": "stream",
     "text": [
      "\n",
      "Der Faktor FA/FR ist 5.3107\n",
      "Der Faktor FA ist 361.2223\n",
      "Der Faktor FR ist 68.0177\n",
      "Der Wert der äquivalenten Lagerbelastung der O-Lagerung ist: 229.7029 N\n",
      "\n",
      "n_äquivalent: 876.0 1/min\n",
      "p_äquivalent: 229.7029 N\n",
      "Die nominelle Lagerlebensdauer ist: 225249631.0358034 Stunden\n",
      "Die modifizierte Lagerlebensdauer ist: 56312407.7590 Stunden\n"
     ]
    }
   ],
   "source": [
    "#FAG 7007-B-XL-TVP\n",
    "o_lager(Ax,math.sqrt(Ay**2+Az**2),24300)"
   ]
  },
  {
   "cell_type": "code",
   "execution_count": 53,
   "metadata": {},
   "outputs": [
    {
     "name": "stdout",
     "output_type": "stream",
     "text": [
      "\n",
      "Der Faktor FA/FR ist 0.8772\n",
      "Der Faktor FA ist 952.4701\n",
      "Der Faktor FR ist 1085.8160\n",
      "Der Wert der äquivalenten Lagerbelastung der O-Lagerung ist: 1085.8160 N\n",
      "\n",
      "n_äquivalent: 876.0 1/min\n",
      "p_äquivalent: 1085.8160 N\n",
      "Die nominelle Lagerlebensdauer ist: 3262496.677574482 Stunden\n",
      "Die modifizierte Lagerlebensdauer ist: 815624.1694 Stunden\n"
     ]
    }
   ],
   "source": [
    "# FAG 7008-B-XL-TVP\n",
    "o_lager(Bx,Fra,28000)"
   ]
  },
  {
   "cell_type": "code",
   "execution_count": 54,
   "metadata": {},
   "outputs": [
    {
     "name": "stdout",
     "output_type": "stream",
     "text": [
      "Die resultierende Radiallast ist: 780.7652 N\n",
      "Die resultierende Axiallast ist: 616.3212554967888 N\n",
      "Der Faktor FA/FR ist 0.7894\n",
      " fo*FA/Cro = 0.5046130279379958\n",
      "Der Wert von e (interpoliert) ist: 0.2405\n",
      "Der Wert von y (interpoliert) ist: 1.7975\n",
      "P= x*FR + y*FA\n",
      "Der Wert der äquivalenten Lagerbelastung ist: 1544.7572 N\n",
      "\n",
      "Der nominelle Lagerlebensdauer in Stunden ist:164024.9901h\n",
      "Der nominelle Lagerlebensdauer in Umdrehungen ist: 7035.4911 * 10^6 Umdrehungen\n",
      "\n",
      "n_äquivalent: 568.9280 1/min\n",
      "p_äquivalent: 1405.9480 N\n",
      "Die modifizierte Lagerlebensdauer ist: 68343.7459 Stunden\n"
     ]
    }
   ],
   "source": [
    "#Festlager 2. Welle: 6306\n",
    "lebensdauer(29600, 16000, 13.1,714.88 , Cx, Cy, Cz)"
   ]
  },
  {
   "cell_type": "code",
   "execution_count": 55,
   "metadata": {},
   "outputs": [
    {
     "name": "stdout",
     "output_type": "stream",
     "text": [
      "Die resultierende Radiallast ist: 4209.7684 N\n",
      "Die resultierende Axiallast ist: 0 N\n",
      "Der Faktor FA/FR ist 0.0000\n",
      " fo*FA/Cro = 0.0\n",
      "Der Wert von e (interpoliert) ist: 0.0000\n",
      "Der Wert von y (interpoliert) ist: 0.0000\n",
      "P=FR\n",
      "Der Wert der äquivalenten Lagerbelastung ist: 4209.7684 N\n",
      "\n",
      "Der nominelle Lagerlebensdauer in Stunden ist:52846.5190h\n",
      "Der nominelle Lagerlebensdauer in Umdrehungen ist: 2266.7352 * 10^6 Umdrehungen\n",
      "\n",
      "n_äquivalent: 568.9280 1/min\n",
      "p_äquivalent: 3831.4859 N\n",
      "Die modifizierte Lagerlebensdauer ist: 22019.3829 Stunden\n"
     ]
    }
   ],
   "source": [
    "#Loslager 2. Welle:6407\n",
    "lebensdauer(55300, 31000, 12.1, 714.88, 0, Dy, Dz)"
   ]
  },
  {
   "cell_type": "code",
   "execution_count": 56,
   "metadata": {},
   "outputs": [
    {
     "name": "stdout",
     "output_type": "stream",
     "text": [
      "Die resultierende Radiallast ist: 3641.2809 N\n",
      "Die resultierende Axiallast ist: -1207.569140909062 N\n",
      "Der Faktor FA/FR ist -0.3316\n",
      " fo*FA/Cro = -0.7938648981902168\n",
      "Der Wert von e (interpoliert) ist: 0.0000\n",
      "Der Wert von y (interpoliert) ist: 0.0000\n",
      "P=FR\n",
      "Der Wert der äquivalenten Lagerbelastung ist: 3641.2809 N\n",
      "\n",
      "Der nominelle Lagerlebensdauer in Stunden ist:42652.0090h\n",
      "Der nominelle Lagerlebensdauer in Umdrehungen ist: 895.6922 * 10^6 Umdrehungen\n",
      "\n",
      "n_äquivalent: 350.0000 1/min\n",
      "p_äquivalent: 3071.1753 N\n",
      "Die modifizierte Lagerlebensdauer ist: 17771.6704 Stunden\n"
     ]
    }
   ],
   "source": [
    "#Festlager 3. Welle:\n",
    "lebensdauer(35100, 21600, 14.2, 350, Fx, Fy, Fz)"
   ]
  },
  {
   "cell_type": "markdown",
   "metadata": {},
   "source": [
    "## Schnittlasten Erster Welle"
   ]
  },
  {
   "cell_type": "code",
   "execution_count": 57,
   "metadata": {},
   "outputs": [],
   "source": [
    "#Normalkraft\n",
    "def Normal(x):\n",
    "    y = np.array([])\n",
    "    \n",
    "    for x_value in x:\n",
    "        if x_value<=lan1:\n",
    "            N=Ax  \n",
    "        else:\n",
    "            N=Ax-Bx\n",
    "        y = np.append(y,N)\n",
    "        \n",
    "    return y\n",
    "\n",
    "#Querkraft\n",
    "def Q_ges(x):\n",
    "    y = np.array([])\n",
    "    for x_value in x:\n",
    "        if x_value<=lan1:\n",
    "            Qy=-Ay\n",
    "            Qz=-Az\n",
    "            Qges=np.sqrt(Qy**2 + Qz**2)\n",
    "        else:\n",
    "            Qy=-Ay-By\n",
    "            Qz=-Az-Bz\n",
    "            Qges=np.sqrt(Qy**2 + Qz**2)\n",
    "        y = np.append(y,Qges)\n",
    "    return y\n",
    "\n",
    "#Torsionsmoment\n",
    "def M_t(x):\n",
    "    y = np.array([])\n",
    "    for x_value in x:\n",
    "        Mt = -M_an\n",
    "        y = np.append(y,Mt)\n",
    "    return y\n",
    "\n",
    "#Biegemoment\n",
    "def Mb_ges(x):\n",
    "    y = np.array([])\n",
    "    for x_value in x:\n",
    "        if x_value<=lan1:\n",
    "            Mby=(Az*x_value)\n",
    "            Mbz=(-Ay*x_value)\n",
    "            Mbges=np.sqrt((Mby**2) + (Mbz**2))/1000\n",
    "                 \n",
    "        else:\n",
    "            Mby=Az*x_value+Bz*(x_value-lan1)\n",
    "            Mbz=Ay*x_value+By*(x_value-lan1)\n",
    "            Mbges=np.sqrt((Mby**2) + (Mbz**2))/1000\n",
    "            \n",
    "        y=np.append(y,Mbges)\n",
    "    return y\n",
    "            "
   ]
  },
  {
   "cell_type": "code",
   "execution_count": 58,
   "metadata": {},
   "outputs": [
    {
     "data": {
      "image/png": "[encoded data removed]",
      "text/plain": [
       "<Figure size 1008x576 with 1 Axes>"
      ]
     },
     "metadata": {
      "needs_background": "light"
     },
     "output_type": "display_data"
    }
   ],
   "source": [
    "fig1 = plt.figure(figsize=(14,8))\n",
    "\n",
    "plt.xlim(0,lan2)\n",
    "\n",
    "x = np.linspace(0,lan2,1000)\n",
    "y1 = Normal(x)\n",
    "\n",
    "plt.plot(x,y1,\"-g\", label=\"Normalkraft\")\n",
    "\n",
    "# y2 = Q_ges(x)\n",
    "# plt.plot(x,y2, label=\"Querkraft\")\n",
    "\n",
    "# plt.title(\"Normalkraft\")\n",
    "plt.xlabel(\"Axiale Position auf der Welle [mm]\")\n",
    "plt.ylabel(\"Resultierende Kräfte [N]\")\n",
    "\n",
    "plt.savefig('Normalkraft.png')\n",
    "plt.grid()\n",
    "plt.legend()\n",
    "plt.show()"
   ]
  },
  {
   "cell_type": "code",
   "execution_count": 59,
   "metadata": {},
   "outputs": [
    {
     "data": {
      "image/png": "[encoded data removed]",
      "text/plain": [
       "<Figure size 1008x576 with 1 Axes>"
      ]
     },
     "metadata": {
      "needs_background": "light"
     },
     "output_type": "display_data"
    }
   ],
   "source": [
    "fig2 = plt.figure(figsize=(14,8))\n",
    "\n",
    "plt.xlim(0,lan2)\n",
    "plt.ylim(-180, 200)\n",
    "\n",
    "# y3 = M_t(x)\n",
    "# plt.plot(x,y3, label=\"Torsionsmoment\")\n",
    "\n",
    "y4 = Mb_ges(x)\n",
    "plt.plot(x,y4,\"-g\", label= \"Biegemoment\")\n",
    "plt.xlabel(\"Axiale Position auf der Welle [mm]\")\n",
    "plt.ylabel(\"Resultierendes Moment [Nm]\")\n",
    "\n",
    "plt.savefig('biegemoment.png')\n",
    "plt.grid()\n",
    "plt.legend()\n",
    "plt.show()\n"
   ]
  },
  {
   "cell_type": "markdown",
   "metadata": {},
   "source": [
    "### Überschlägiger Durchmesser nach Niemann/Winter für Biegung und Torsion graphisch darstellen (Seite 494)"
   ]
  },
  {
   "cell_type": "code",
   "execution_count": 60,
   "metadata": {},
   "outputs": [],
   "source": [
    "S=5\n",
    "delta_w=350\n",
    "delta_zul=delta_w/S\n",
    "\n",
    "def uber_durchmesser(x):\n",
    "    y = np.array([])\n",
    "    for x_value in x:\n",
    "        if x_value<=lan1:\n",
    "            Mby=(Az*x_value)\n",
    "            Mbz=(Ay*x_value)\n",
    "            Mt = -0.7*M_an*1000\n",
    "            Mv=math.sqrt((Mby**2 + Mbz**2)+0.4*(Mt**2))\n",
    "            d_tor=2.17*(Mv/delta_zul)**(1/3)\n",
    "        else: \n",
    "            Mby=Az*x_value+Bz*(x_value-lan1)\n",
    "            Mbz=Ay*x_value+By*(x_value-lan1)\n",
    "            Mt = -0.7*M_an*1000\n",
    "            Mv=math.sqrt((Mby**2 + Mbz**2)+0.4*(Mt**2))\n",
    "            d_tor=2.17*(Mv/delta_zul)**(1/3)\n",
    "        y=np.append(y,d_tor) \n",
    "    return y"
   ]
  },
  {
   "cell_type": "code",
   "execution_count": 61,
   "metadata": {},
   "outputs": [
    {
     "data": {
      "image/png": "[encoded data removed]",
      "text/plain": [
       "<Figure size 1008x576 with 1 Axes>"
      ]
     },
     "metadata": {
      "needs_background": "light"
     },
     "output_type": "display_data"
    }
   ],
   "source": [
    "fi3 = plt.figure(figsize=(14,8))\n",
    "\n",
    "plt.xlim(0,lan2)\n",
    "\n",
    "x = np.linspace(0,lan2,1000)\n",
    "y5 = uber_durchmesser(x)\n",
    "\n",
    "plt.plot(x,y5, \"-g\", label=\"Wellendurchmesser d [m]\")\n",
    "\n",
    "\n",
    "plt.xlabel(\"Axiale Position auf der Welle [mm]\")\n",
    "plt.ylabel(\"Wellendurchmesser [mm]\")\n",
    "\n",
    "plt.savefig('durchmesser.png')\n",
    "plt.grid()\n",
    "plt.legend()\n",
    "plt.show()"
   ]
  },
  {
   "cell_type": "markdown",
   "metadata": {},
   "source": [
    "## Genaue Werte für Stelle A, B und C"
   ]
  },
  {
   "cell_type": "code",
   "execution_count": 62,
   "metadata": {},
   "outputs": [],
   "source": [
    "#Funktionen\n",
    "def normalkraft(x):\n",
    "    if x<=lan1:\n",
    "        N=Ax  \n",
    "    else:\n",
    "        N=Ax-Bx\n",
    "    return N \n",
    "    \n",
    "def biegemoment(x):\n",
    "    if x<=lan1:\n",
    "        Mby=(Az*x)\n",
    "        Mbz=(-Ay*x)\n",
    "        Mbges=np.sqrt((Mby**2) + (Mbz**2))/1000\n",
    "    else:\n",
    "        Mby=Az*x+Bz*(x-lan1)\n",
    "        Mbz=Ay*x+By*(x-lan1)\n",
    "        Mbges=np.sqrt((Mby**2) + (Mbz**2))/1000\n",
    "    \n",
    "    return Mbges\n",
    "\n",
    "def querkraft(x):\n",
    "    if x<=lan1:\n",
    "        Qy=-Ay\n",
    "        Qz=-Az\n",
    "        Qges=np.sqrt(Qy**2 + Qz**2)\n",
    "    else:\n",
    "        Qy=-Ay-By\n",
    "        Qz=-Az-Bz\n",
    "        Qges=np.sqrt(Qy**2 + Qz**2)\n",
    "    return Qges"
   ]
  },
  {
   "cell_type": "code",
   "execution_count": 79,
   "metadata": {},
   "outputs": [
    {
     "name": "stdout",
     "output_type": "stream",
     "text": [
      "Kräfte an den krititschen Stellen\n",
      "\n",
      "Der Wert von Normalkraft bei A ist: 361.2223 N\n",
      "Der Wert von Biegemoment bei A ist: 0.0000 Nm\n",
      "Der Wert von Querkraft bei A ist: 68.0177 N\n",
      "\n",
      "Der Wert von Normalkraft bei B ist: 361.2223 N\n",
      "Der Wert von Biegemoment bei B ist: 3.4009 Nm\n",
      "Der Wert von Querkraft bei B ist: 68.0177 N\n",
      "\n",
      "Der Wert von Normalkraft bei C ist: 361.2223 N\n",
      "Der Wert von Biegemoment bei C ist: 4.4212 Nm\n",
      "Der Wert von Querkraft bei C ist: 68.0177 N\n",
      "\n",
      "Der Wert von Normalkraft bei D ist: 361.2223 N\n",
      "Der Wert von Biegemoment bei D ist: 2.6527 Nm\n",
      "Der Wert von Querkraft bei D ist: 68.0177 N\n",
      "\n",
      "Der Wert von Normalkraft bei E ist: -591.2479 N\n",
      "Der Wert von Biegemoment bei E ist: 22.1467 Nm\n",
      "Der Wert von Querkraft bei E ist: 1141.4530 N\n",
      "\n"
     ]
    }
   ],
   "source": [
    "punkte={\"A\":0, \"B\":50, \"C\":65,\"D\":85, \"E\":100}\n",
    "\n",
    "stelle_keys=list(punkte.keys())\n",
    "stelle_values=list(punkte.values())\n",
    "\n",
    "print(f'Kräfte an den krititschen Stellen\\n')\n",
    "\n",
    "for i in range(len(punkte)):\n",
    "    print(f'Der Wert von Normalkraft bei {stelle_keys[i]} ist: {normalkraft(stelle_values[i]):4.4f} N')\n",
    "    print(f'Der Wert von Biegemoment bei {stelle_keys[i]} ist: {biegemoment(stelle_values[i]):4.4f} Nm')\n",
    "    print(f'Der Wert von Querkraft bei {stelle_keys[i]} ist: {querkraft(stelle_values[i]):4.4f} N\\n')"
   ]
  },
  {
   "cell_type": "code",
   "execution_count": 23,
   "metadata": {},
   "outputs": [
    {
     "data": {
      "text/html": [
       "<img src=\"Bilder/uberschlagig_durchmesser1.png\" width=\"2000\" height=\"1000\"/>"
      ],
      "text/plain": [
       "<IPython.core.display.Image object>"
      ]
     },
     "execution_count": 23,
     "metadata": {},
     "output_type": "execute_result"
    }
   ],
   "source": [
    "# get the image\n",
    "Image(url=\"Bilder/uberschlagig_durchmesser1.png\", width=2000, height=1000) # Tab 17.1 - S. 494 / Tab 5.6  - S.131  : Beide Niemann 2019"
   ]
  },
  {
   "cell_type": "code",
   "execution_count": 76,
   "metadata": {},
   "outputs": [],
   "source": [
    "def uberschlag_durchmesser(x):\n",
    "    if x<=lan1:\n",
    "        Mby=(Az*x)\n",
    "        Mbz=(Ay*x)\n",
    "        Mt = -0.7*M_an*1000\n",
    "        Mv=math.sqrt((Mby**2 + Mbz**2)+0.4*(Mt**2))\n",
    "        d_tor=2.17*(Mv/delta_zul)**(1/3)\n",
    "    else: \n",
    "        Mby=Az*x+Bz*(x-lan1)\n",
    "        Mbz=Ay*x+By*(x-lan1)\n",
    "        Mt = -0.7*M_an*1000\n",
    "        Mv=math.sqrt((Mby**2 + Mbz**2)+0.4*(Mt**2))\n",
    "        d_tor=2.17*(Mv/delta_zul)**(1/3)\n",
    "    return d_tor"
   ]
  },
  {
   "cell_type": "code",
   "execution_count": 80,
   "metadata": {},
   "outputs": [
    {
     "name": "stdout",
     "output_type": "stream",
     "text": [
      "Der Wert von überschlägigen Durchmesser bei 85 ist: 20.4050 mm\n"
     ]
    }
   ],
   "source": [
    "i=85\n",
    "print(f'Der Wert von überschlägigen Durchmesser bei {i} ist: {uberschlag_durchmesser(i):4.4f} mm')"
   ]
  }
 ],
 "metadata": {
  "kernelspec": {
   "display_name": "Python 3",
   "language": "python",
   "name": "python3"
  },
  "language_info": {
   "codemirror_mode": {
    "name": "ipython",
    "version": 3
   },
   "file_extension": ".py",
   "mimetype": "text/x-python",
   "name": "python",
   "nbconvert_exporter": "python",
   "pygments_lexer": "ipython3",
   "version": "3.8.11"
  }
 },
 "nbformat": 4,
 "nbformat_minor": 4
}
